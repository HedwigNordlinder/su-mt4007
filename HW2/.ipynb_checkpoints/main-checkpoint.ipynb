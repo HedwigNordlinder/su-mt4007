{
 "cells": [
  {
   "cell_type": "markdown",
   "id": "0bdaabe5-6b4d-42a0-91bd-451d72419d50",
   "metadata": {},
   "source": [
    "# Homework 2 - Working with tables"
   ]
  },
  {
   "cell_type": "markdown",
   "id": "e7416f97-2165-4ee8-979b-e99be2097e60",
   "metadata": {},
   "source": [
    "## Apartment prices\n",
    "In this section we will calculate the price per square meter of apartments in the Booli dataset"
   ]
  },
  {
   "cell_type": "code",
   "execution_count": 2,
   "id": "10a59ba5-00ee-40f8-81bd-e4a9c0e84f4d",
   "metadata": {},
   "outputs": [],
   "source": [
    "data <- read.csv(\"Booli_sold.csv\")\n",
    "data$ppsqm <- as.numeric(data$soldPrice) / as.numeric(data$livingArea)"
   ]
  },
  {
   "cell_type": "markdown",
   "id": "e89d91ea-cc6b-40a2-a08e-4ef36b8089e5",
   "metadata": {},
   "source": [
    "We will now find the five most expensive apartments with respect to the price per square meter"
   ]
  },
  {
   "cell_type": "code",
   "execution_count": 3,
   "id": "cefbd858-089b-4665-bd49-680fb5ae157c",
   "metadata": {},
   "outputs": [
    {
     "data": {
      "text/html": [
       "<table class=\"dataframe\">\n",
       "<caption>A data.frame: 5 × 28</caption>\n",
       "<thead>\n",
       "\t<tr><th></th><th scope=col>listPrice</th><th scope=col>rent</th><th scope=col>livingArea</th><th scope=col>rooms</th><th scope=col>published</th><th scope=col>constructionYear</th><th scope=col>objectType</th><th scope=col>booliId</th><th scope=col>soldDate</th><th scope=col>soldPrice</th><th scope=col>⋯</th><th scope=col>location.position.longitude</th><th scope=col>location.position.isApproximate</th><th scope=col>location.region.municipalityName</th><th scope=col>location.region.countyName</th><th scope=col>location.distance.ocean</th><th scope=col>source.name</th><th scope=col>source.id</th><th scope=col>source.type</th><th scope=col>source.url</th><th scope=col>ppsqm</th></tr>\n",
       "\t<tr><th></th><th scope=col>&lt;int&gt;</th><th scope=col>&lt;int&gt;</th><th scope=col>&lt;dbl&gt;</th><th scope=col>&lt;dbl&gt;</th><th scope=col>&lt;chr&gt;</th><th scope=col>&lt;int&gt;</th><th scope=col>&lt;chr&gt;</th><th scope=col>&lt;int&gt;</th><th scope=col>&lt;chr&gt;</th><th scope=col>&lt;int&gt;</th><th scope=col>⋯</th><th scope=col>&lt;dbl&gt;</th><th scope=col>&lt;lgl&gt;</th><th scope=col>&lt;chr&gt;</th><th scope=col>&lt;chr&gt;</th><th scope=col>&lt;int&gt;</th><th scope=col>&lt;chr&gt;</th><th scope=col>&lt;int&gt;</th><th scope=col>&lt;chr&gt;</th><th scope=col>&lt;chr&gt;</th><th scope=col>&lt;dbl&gt;</th></tr>\n",
       "</thead>\n",
       "<tbody>\n",
       "\t<tr><th scope=row>68</th><td>1595000</td><td>1464</td><td>24.0</td><td>1</td><td>2016-01-07 14:51:06</td><td>1935</td><td>Lägenhet</td><td>2018259</td><td>2016-01-21</td><td>2500000</td><td>⋯</td><td>18.05527</td><td>  NA</td><td>Stockholm</td><td>Stockholms län</td><td>161</td><td>Notar        </td><td>1566</td><td>Broker</td><td>http://www.notar.se/        </td><td>104166.67</td></tr>\n",
       "\t<tr><th scope=row>51</th><td>1890000</td><td>1464</td><td>24.0</td><td>1</td><td>2016-06-11 08:55:51</td><td>1935</td><td>Lägenhet</td><td>2125576</td><td>2016-06-21</td><td>2450000</td><td>⋯</td><td>18.05527</td><td>  NA</td><td>Stockholm</td><td>Stockholms län</td><td>161</td><td>HusmanHagberg</td><td>1610</td><td>Broker</td><td>http://www.husmanhagberg.se/</td><td>102083.33</td></tr>\n",
       "\t<tr><th scope=row>55</th><td>1795000</td><td>1374</td><td>23.0</td><td>1</td><td>2016-04-15 19:10:49</td><td>1935</td><td>Lägenhet</td><td>2078171</td><td>2016-04-28</td><td>2300000</td><td>⋯</td><td>18.05542</td><td>TRUE</td><td>Stockholm</td><td>Stockholms län</td><td>135</td><td>Notar        </td><td>1566</td><td>Broker</td><td>http://www.notar.se/        </td><td>100000.00</td></tr>\n",
       "\t<tr><th scope=row>35</th><td>1750000</td><td>1144</td><td>25.0</td><td>1</td><td>2017-05-18 16:20:57</td><td>1936</td><td>Lägenhet</td><td>2330886</td><td>2017-06-01</td><td>2210000</td><td>⋯</td><td>18.05388</td><td>  NA</td><td>Stockholm</td><td>Stockholms län</td><td>218</td><td>HusmanHagberg</td><td>1610</td><td>Broker</td><td>http://www.husmanhagberg.se/</td><td> 88400.00</td></tr>\n",
       "\t<tr><th scope=row>56</th><td>1895000</td><td>1522</td><td>26.9</td><td>1</td><td>2016-04-01 22:56:37</td><td>1968</td><td>Lägenhet</td><td>2067384</td><td>2016-04-19</td><td>2300000</td><td>⋯</td><td>18.05853</td><td>TRUE</td><td>Stockholm</td><td>Stockholms län</td><td>298</td><td>Notar        </td><td>1566</td><td>Broker</td><td>http://www.notar.se/        </td><td> 85501.86</td></tr>\n",
       "</tbody>\n",
       "</table>\n"
      ],
      "text/latex": [
       "A data.frame: 5 × 28\n",
       "\\begin{tabular}{r|lllllllllllllllllllll}\n",
       "  & listPrice & rent & livingArea & rooms & published & constructionYear & objectType & booliId & soldDate & soldPrice & ⋯ & location.position.longitude & location.position.isApproximate & location.region.municipalityName & location.region.countyName & location.distance.ocean & source.name & source.id & source.type & source.url & ppsqm\\\\\n",
       "  & <int> & <int> & <dbl> & <dbl> & <chr> & <int> & <chr> & <int> & <chr> & <int> & ⋯ & <dbl> & <lgl> & <chr> & <chr> & <int> & <chr> & <int> & <chr> & <chr> & <dbl>\\\\\n",
       "\\hline\n",
       "\t68 & 1595000 & 1464 & 24.0 & 1 & 2016-01-07 14:51:06 & 1935 & Lägenhet & 2018259 & 2016-01-21 & 2500000 & ⋯ & 18.05527 &   NA & Stockholm & Stockholms län & 161 & Notar         & 1566 & Broker & http://www.notar.se/         & 104166.67\\\\\n",
       "\t51 & 1890000 & 1464 & 24.0 & 1 & 2016-06-11 08:55:51 & 1935 & Lägenhet & 2125576 & 2016-06-21 & 2450000 & ⋯ & 18.05527 &   NA & Stockholm & Stockholms län & 161 & HusmanHagberg & 1610 & Broker & http://www.husmanhagberg.se/ & 102083.33\\\\\n",
       "\t55 & 1795000 & 1374 & 23.0 & 1 & 2016-04-15 19:10:49 & 1935 & Lägenhet & 2078171 & 2016-04-28 & 2300000 & ⋯ & 18.05542 & TRUE & Stockholm & Stockholms län & 135 & Notar         & 1566 & Broker & http://www.notar.se/         & 100000.00\\\\\n",
       "\t35 & 1750000 & 1144 & 25.0 & 1 & 2017-05-18 16:20:57 & 1936 & Lägenhet & 2330886 & 2017-06-01 & 2210000 & ⋯ & 18.05388 &   NA & Stockholm & Stockholms län & 218 & HusmanHagberg & 1610 & Broker & http://www.husmanhagberg.se/ &  88400.00\\\\\n",
       "\t56 & 1895000 & 1522 & 26.9 & 1 & 2016-04-01 22:56:37 & 1968 & Lägenhet & 2067384 & 2016-04-19 & 2300000 & ⋯ & 18.05853 & TRUE & Stockholm & Stockholms län & 298 & Notar         & 1566 & Broker & http://www.notar.se/         &  85501.86\\\\\n",
       "\\end{tabular}\n"
      ],
      "text/markdown": [
       "\n",
       "A data.frame: 5 × 28\n",
       "\n",
       "| <!--/--> | listPrice &lt;int&gt; | rent &lt;int&gt; | livingArea &lt;dbl&gt; | rooms &lt;dbl&gt; | published &lt;chr&gt; | constructionYear &lt;int&gt; | objectType &lt;chr&gt; | booliId &lt;int&gt; | soldDate &lt;chr&gt; | soldPrice &lt;int&gt; | ⋯ ⋯ | location.position.longitude &lt;dbl&gt; | location.position.isApproximate &lt;lgl&gt; | location.region.municipalityName &lt;chr&gt; | location.region.countyName &lt;chr&gt; | location.distance.ocean &lt;int&gt; | source.name &lt;chr&gt; | source.id &lt;int&gt; | source.type &lt;chr&gt; | source.url &lt;chr&gt; | ppsqm &lt;dbl&gt; |\n",
       "|---|---|---|---|---|---|---|---|---|---|---|---|---|---|---|---|---|---|---|---|---|---|\n",
       "| 68 | 1595000 | 1464 | 24.0 | 1 | 2016-01-07 14:51:06 | 1935 | Lägenhet | 2018259 | 2016-01-21 | 2500000 | ⋯ | 18.05527 |   NA | Stockholm | Stockholms län | 161 | Notar         | 1566 | Broker | http://www.notar.se/         | 104166.67 |\n",
       "| 51 | 1890000 | 1464 | 24.0 | 1 | 2016-06-11 08:55:51 | 1935 | Lägenhet | 2125576 | 2016-06-21 | 2450000 | ⋯ | 18.05527 |   NA | Stockholm | Stockholms län | 161 | HusmanHagberg | 1610 | Broker | http://www.husmanhagberg.se/ | 102083.33 |\n",
       "| 55 | 1795000 | 1374 | 23.0 | 1 | 2016-04-15 19:10:49 | 1935 | Lägenhet | 2078171 | 2016-04-28 | 2300000 | ⋯ | 18.05542 | TRUE | Stockholm | Stockholms län | 135 | Notar         | 1566 | Broker | http://www.notar.se/         | 100000.00 |\n",
       "| 35 | 1750000 | 1144 | 25.0 | 1 | 2017-05-18 16:20:57 | 1936 | Lägenhet | 2330886 | 2017-06-01 | 2210000 | ⋯ | 18.05388 |   NA | Stockholm | Stockholms län | 218 | HusmanHagberg | 1610 | Broker | http://www.husmanhagberg.se/ |  88400.00 |\n",
       "| 56 | 1895000 | 1522 | 26.9 | 1 | 2016-04-01 22:56:37 | 1968 | Lägenhet | 2067384 | 2016-04-19 | 2300000 | ⋯ | 18.05853 | TRUE | Stockholm | Stockholms län | 298 | Notar         | 1566 | Broker | http://www.notar.se/         |  85501.86 |\n",
       "\n"
      ],
      "text/plain": [
       "   listPrice rent livingArea rooms published           constructionYear\n",
       "68 1595000   1464 24.0       1     2016-01-07 14:51:06 1935            \n",
       "51 1890000   1464 24.0       1     2016-06-11 08:55:51 1935            \n",
       "55 1795000   1374 23.0       1     2016-04-15 19:10:49 1935            \n",
       "35 1750000   1144 25.0       1     2017-05-18 16:20:57 1936            \n",
       "56 1895000   1522 26.9       1     2016-04-01 22:56:37 1968            \n",
       "   objectType booliId soldDate   soldPrice ⋯ location.position.longitude\n",
       "68 Lägenhet   2018259 2016-01-21 2500000   ⋯ 18.05527                   \n",
       "51 Lägenhet   2125576 2016-06-21 2450000   ⋯ 18.05527                   \n",
       "55 Lägenhet   2078171 2016-04-28 2300000   ⋯ 18.05542                   \n",
       "35 Lägenhet   2330886 2017-06-01 2210000   ⋯ 18.05388                   \n",
       "56 Lägenhet   2067384 2016-04-19 2300000   ⋯ 18.05853                   \n",
       "   location.position.isApproximate location.region.municipalityName\n",
       "68   NA                            Stockholm                       \n",
       "51   NA                            Stockholm                       \n",
       "55 TRUE                            Stockholm                       \n",
       "35   NA                            Stockholm                       \n",
       "56 TRUE                            Stockholm                       \n",
       "   location.region.countyName location.distance.ocean source.name   source.id\n",
       "68 Stockholms län             161                     Notar         1566     \n",
       "51 Stockholms län             161                     HusmanHagberg 1610     \n",
       "55 Stockholms län             135                     Notar         1566     \n",
       "35 Stockholms län             218                     HusmanHagberg 1610     \n",
       "56 Stockholms län             298                     Notar         1566     \n",
       "   source.type source.url                   ppsqm    \n",
       "68 Broker      http://www.notar.se/         104166.67\n",
       "51 Broker      http://www.husmanhagberg.se/ 102083.33\n",
       "55 Broker      http://www.notar.se/         100000.00\n",
       "35 Broker      http://www.husmanhagberg.se/  88400.00\n",
       "56 Broker      http://www.notar.se/          85501.86"
      ]
     },
     "metadata": {},
     "output_type": "display_data"
    }
   ],
   "source": [
    "sorted_data <- data[order(-data$ppsqm),]\n",
    "five_most_expensive <- sorted_data[1:5,]\n",
    "head(five_most_expensive)"
   ]
  },
  {
   "cell_type": "markdown",
   "id": "206df284-c7b0-4594-b94f-954efb01715b",
   "metadata": {},
   "source": [
    "Finally we will find the average price per square meter of apartments in Ekhagen ( I am assuming this refers to apartments on Ekhagsvägen). We will have to remove a NAN price also\n"
   ]
  },
  {
   "cell_type": "code",
   "execution_count": 4,
   "id": "fba4ffc8-1b22-43f4-8f10-54e15c8ca661",
   "metadata": {},
   "outputs": [
    {
     "name": "stdout",
     "output_type": "stream",
     "text": [
      "[1] \"The mean price per square meter of an apartment in Ekhagen is: 58759.3827600817\"\n"
     ]
    }
   ],
   "source": [
    "\n",
    "ekhagen_data_cleaned <- data[!is.na(data$ppsqm),]\n",
    "print(paste(\"The mean price per square meter of an apartment in Ekhagen is:\",mean(ekhagen_data_cleaned$ppsqm)))"
   ]
  },
  {
   "cell_type": "markdown",
   "id": "0b5481bc-5c00-4f23-91b5-b34e6217c045",
   "metadata": {},
   "source": [
    "I wish to highlight the interesting fact that there seems to be a negative relationship between living area and price per square mile, that is the smaller your apartment is the more you pay per unit of living area. "
   ]
  },
  {
   "cell_type": "code",
   "execution_count": 88,
   "id": "94876903-bed2-44d0-8493-1f6b36a2032b",
   "metadata": {},
   "outputs": [
    {
     "data": {
      "image/png": "[encoded data removed]",
      "text/plain": [
       "plot without title"
      ]
     },
     "metadata": {
      "image/png": {
       "height": 420,
       "width": 420
      }
     },
     "output_type": "display_data"
    }
   ],
   "source": [
    "cleaned_data <- data[!is.na(data$ppsqm),]\n",
    "plot(log(cleaned_data$livingArea), log(cleaned_data$ppsqm))"
   ]
  },
  {
   "cell_type": "markdown",
   "id": "7778807d-93f0-4f6f-9815-3b70c85280e8",
   "metadata": {},
   "source": [
    "## The Swedish Election of 2018"
   ]
  },
  {
   "cell_type": "code",
   "execution_count": 2,
   "id": "7d7b0b00-cba4-43bc-ab44-884ffb54822f",
   "metadata": {},
   "outputs": [],
   "source": [
    "election_data <- read.csv(\"2018_R_per_kommun.csv\", sep = \";\")"
   ]
  },
  {
   "cell_type": "markdown",
   "id": "53524e61-2304-45ac-8f5b-50ac82bcc674",
   "metadata": {},
   "source": [
    "We will first calculate the amount of legitimate votes in Stockholm"
   ]
  },
  {
   "cell_type": "code",
   "execution_count": 3,
   "id": "c9d788f0-5087-4f7b-8171-bd6f2ac206b4",
   "metadata": {},
   "outputs": [
    {
     "name": "stdout",
     "output_type": "stream",
     "text": [
      "[1] \"There were 1426237 legitimate votes in Stockholm in the election of 2018\"\n"
     ]
    }
   ],
   "source": [
    "stockholm_data <- election_data[election_data$LÄNSKOD == 1,]\n",
    "total_legitimate_votes <- sum(stockholm_data$RÖSTER.GILTIGA)\n",
    "print(paste(\"There were\",total_legitimate_votes,\"legitimate votes in Stockholm in the election of 2018\"))"
   ]
  },
  {
   "cell_type": "markdown",
   "id": "fc810f34-5e85-49ac-805c-49028c66ad3e",
   "metadata": {},
   "source": [
    "We now calculate in which municipality the social democratic party garnered the most votes\n"
   ]
  },
  {
   "cell_type": "code",
   "execution_count": 4,
   "id": "0f32295b-dbf5-4353-8cc3-7af29818d1e8",
   "metadata": {},
   "outputs": [
    {
     "name": "stdout",
     "output_type": "stream",
     "text": [
      "[1] \"The Social Democratic party recieved the highest share of the vote in Munkfors\"\n"
     ]
    }
   ],
   "source": [
    "election_data$S_numeric <- as.numeric(gsub(\",\",\".\",election_data$S))\n",
    "print(paste(\"The Social Democratic party recieved the highest share of the vote in\",election_data$KOMMUNNAMN[which.max(election_data$S_numeric)]))"
   ]
  },
  {
   "cell_type": "markdown",
   "id": "fb6ff3b9-09b1-43f5-bf60-bbaf548488c3",
   "metadata": {},
   "source": [
    "We will now find the three municipalities with the largest turnout"
   ]
  },
  {
   "cell_type": "code",
   "execution_count": 7,
   "id": "1a6e93ee-c7f6-4327-94e2-468b2cc00135",
   "metadata": {},
   "outputs": [
    {
     "data": {
      "text/html": [
       "<table class=\"dataframe\">\n",
       "<caption>A data.frame: 3 × 47</caption>\n",
       "<thead>\n",
       "\t<tr><th></th><th scope=col>LÄNSKOD</th><th scope=col>KOMMUNKOD</th><th scope=col>LÄNSNAMN</th><th scope=col>KOMMUNNAMN</th><th scope=col>M</th><th scope=col>C</th><th scope=col>L</th><th scope=col>KD</th><th scope=col>S</th><th scope=col>V</th><th scope=col>⋯</th><th scope=col>ÖVR</th><th scope=col>OGEJ</th><th scope=col>BLANK</th><th scope=col>OG</th><th scope=col>RÖSTER.GILTIGA</th><th scope=col>RÖSTANDE</th><th scope=col>RÖSTBERÄTTIGADE</th><th scope=col>VALDELTAGANDE</th><th scope=col>S_numeric</th><th scope=col>turnout_numeric</th></tr>\n",
       "\t<tr><th></th><th scope=col>&lt;int&gt;</th><th scope=col>&lt;int&gt;</th><th scope=col>&lt;chr&gt;</th><th scope=col>&lt;chr&gt;</th><th scope=col>&lt;chr&gt;</th><th scope=col>&lt;chr&gt;</th><th scope=col>&lt;chr&gt;</th><th scope=col>&lt;chr&gt;</th><th scope=col>&lt;chr&gt;</th><th scope=col>&lt;chr&gt;</th><th scope=col>⋯</th><th scope=col>&lt;chr&gt;</th><th scope=col>&lt;chr&gt;</th><th scope=col>&lt;chr&gt;</th><th scope=col>&lt;chr&gt;</th><th scope=col>&lt;int&gt;</th><th scope=col>&lt;int&gt;</th><th scope=col>&lt;int&gt;</th><th scope=col>&lt;chr&gt;</th><th scope=col>&lt;dbl&gt;</th><th scope=col>&lt;dbl&gt;</th></tr>\n",
       "</thead>\n",
       "<tbody>\n",
       "\t<tr><th scope=row>104</th><td>12</td><td>62</td><td>Skåne län     </td><td>Lomma   </td><td>33,16</td><td>9,33</td><td>9,97</td><td>6,38 </td><td>16,69</td><td>2,54</td><td>⋯</td><td></td><td>    </td><td>0,51</td><td>0,04</td><td>16401</td><td>16492</td><td>17570</td><td>93,86</td><td>16.69</td><td>93.86</td></tr>\n",
       "\t<tr><th scope=row>60</th><td> 6</td><td>43</td><td>Jönköpings län</td><td>Habo    </td><td>19,73</td><td>8,77</td><td>4,22</td><td>15,13</td><td>23,74</td><td>3,91</td><td>⋯</td><td></td><td>0,06</td><td>0,88</td><td>0,06</td><td> 7746</td><td> 7825</td><td> 8382</td><td>93,35</td><td>23.74</td><td>93.35</td></tr>\n",
       "\t<tr><th scope=row>99</th><td>12</td><td>33</td><td>Skåne län     </td><td>Vellinge</td><td>39,56</td><td>7,24</td><td>7,26</td><td>7,45 </td><td>10,58</td><td>1,31</td><td>⋯</td><td></td><td>0,02</td><td>0,4 </td><td>0,04</td><td>25245</td><td>25360</td><td>27231</td><td>93,13</td><td>10.58</td><td>93.13</td></tr>\n",
       "</tbody>\n",
       "</table>\n"
      ],
      "text/latex": [
       "A data.frame: 3 × 47\n",
       "\\begin{tabular}{r|lllllllllllllllllllll}\n",
       "  & LÄNSKOD & KOMMUNKOD & LÄNSNAMN & KOMMUNNAMN & M & C & L & KD & S & V & ⋯ & ÖVR & OGEJ & BLANK & OG & RÖSTER.GILTIGA & RÖSTANDE & RÖSTBERÄTTIGADE & VALDELTAGANDE & S\\_numeric & turnout\\_numeric\\\\\n",
       "  & <int> & <int> & <chr> & <chr> & <chr> & <chr> & <chr> & <chr> & <chr> & <chr> & ⋯ & <chr> & <chr> & <chr> & <chr> & <int> & <int> & <int> & <chr> & <dbl> & <dbl>\\\\\n",
       "\\hline\n",
       "\t104 & 12 & 62 & Skåne län      & Lomma    & 33,16 & 9,33 & 9,97 & 6,38  & 16,69 & 2,54 & ⋯ &  &      & 0,51 & 0,04 & 16401 & 16492 & 17570 & 93,86 & 16.69 & 93.86\\\\\n",
       "\t60 &  6 & 43 & Jönköpings län & Habo     & 19,73 & 8,77 & 4,22 & 15,13 & 23,74 & 3,91 & ⋯ &  & 0,06 & 0,88 & 0,06 &  7746 &  7825 &  8382 & 93,35 & 23.74 & 93.35\\\\\n",
       "\t99 & 12 & 33 & Skåne län      & Vellinge & 39,56 & 7,24 & 7,26 & 7,45  & 10,58 & 1,31 & ⋯ &  & 0,02 & 0,4  & 0,04 & 25245 & 25360 & 27231 & 93,13 & 10.58 & 93.13\\\\\n",
       "\\end{tabular}\n"
      ],
      "text/markdown": [
       "\n",
       "A data.frame: 3 × 47\n",
       "\n",
       "| <!--/--> | LÄNSKOD &lt;int&gt; | KOMMUNKOD &lt;int&gt; | LÄNSNAMN &lt;chr&gt; | KOMMUNNAMN &lt;chr&gt; | M &lt;chr&gt; | C &lt;chr&gt; | L &lt;chr&gt; | KD &lt;chr&gt; | S &lt;chr&gt; | V &lt;chr&gt; | ⋯ ⋯ | ÖVR &lt;chr&gt; | OGEJ &lt;chr&gt; | BLANK &lt;chr&gt; | OG &lt;chr&gt; | RÖSTER.GILTIGA &lt;int&gt; | RÖSTANDE &lt;int&gt; | RÖSTBERÄTTIGADE &lt;int&gt; | VALDELTAGANDE &lt;chr&gt; | S_numeric &lt;dbl&gt; | turnout_numeric &lt;dbl&gt; |\n",
       "|---|---|---|---|---|---|---|---|---|---|---|---|---|---|---|---|---|---|---|---|---|---|\n",
       "| 104 | 12 | 62 | Skåne län      | Lomma    | 33,16 | 9,33 | 9,97 | 6,38  | 16,69 | 2,54 | ⋯ | <!----> | <!----> | 0,51 | 0,04 | 16401 | 16492 | 17570 | 93,86 | 16.69 | 93.86 |\n",
       "| 60 |  6 | 43 | Jönköpings län | Habo     | 19,73 | 8,77 | 4,22 | 15,13 | 23,74 | 3,91 | ⋯ | <!----> | 0,06 | 0,88 | 0,06 |  7746 |  7825 |  8382 | 93,35 | 23.74 | 93.35 |\n",
       "| 99 | 12 | 33 | Skåne län      | Vellinge | 39,56 | 7,24 | 7,26 | 7,45  | 10,58 | 1,31 | ⋯ | <!----> | 0,02 | 0,4  | 0,04 | 25245 | 25360 | 27231 | 93,13 | 10.58 | 93.13 |\n",
       "\n"
      ],
      "text/plain": [
       "    LÄNSKOD KOMMUNKOD LÄNSNAMN       KOMMUNNAMN M     C    L    KD    S    \n",
       "104 12      62        Skåne län      Lomma      33,16 9,33 9,97 6,38  16,69\n",
       "60   6      43        Jönköpings län Habo       19,73 8,77 4,22 15,13 23,74\n",
       "99  12      33        Skåne län      Vellinge   39,56 7,24 7,26 7,45  10,58\n",
       "    V    ⋯ ÖVR OGEJ BLANK OG   RÖSTER.GILTIGA RÖSTANDE RÖSTBERÄTTIGADE\n",
       "104 2,54 ⋯          0,51  0,04 16401          16492    17570          \n",
       "60  3,91 ⋯     0,06 0,88  0,06  7746           7825     8382          \n",
       "99  1,31 ⋯     0,02 0,4   0,04 25245          25360    27231          \n",
       "    VALDELTAGANDE S_numeric turnout_numeric\n",
       "104 93,86         16.69     93.86          \n",
       "60  93,35         23.74     93.35          \n",
       "99  93,13         10.58     93.13          "
      ]
     },
     "metadata": {},
     "output_type": "display_data"
    }
   ],
   "source": [
    "election_data$turnout_numeric <- as.numeric(gsub(\",\",\".\",election_data$VALDELTAGANDE))\n",
    "sorted_by_turnout <- election_data[order(-election_data$turnout_numeric),]\n",
    "sorted_by_turnout[1:3,]"
   ]
  },
  {
   "cell_type": "markdown",
   "id": "56eb9cb7-fb44-41af-93a5-da06f989450e",
   "metadata": {},
   "source": [
    "## Stroke data\n",
    "In this section we will create an informative plot to draw conclusions about stroke risk\n"
   ]
  },
  {
   "cell_type": "code",
   "execution_count": 87,
   "id": "940a558a-cdb3-40ef-b5a6-564a341e933c",
   "metadata": {},
   "outputs": [
    {
     "data": {
      "image/png": "[encoded data removed]",
      "text/plain": [
       "plot without title"
      ]
     },
     "metadata": {
      "image/png": {
       "height": 420,
       "width": 420
      }
     },
     "output_type": "display_data"
    }
   ],
   "source": [
    "stroke_data <- read.csv(\"stroke-data.csv\")\n",
    "boxplot(age ~ stroke, data = stroke_data)"
   ]
  },
  {
   "cell_type": "markdown",
   "id": "34701858-ceb4-4797-8217-83d9e2609f98",
   "metadata": {},
   "source": [
    "Hmm! It looks like older people suffer strokes more often. Truly ground breaking medical research!"
   ]
  },
  {
   "cell_type": "code",
   "execution_count": null,
   "id": "17bc0702-3e5f-48a2-bb3c-3a300327e455",
   "metadata": {},
   "outputs": [],
   "source": []
  }
 ],
 "metadata": {
  "kernelspec": {
   "display_name": "R",
   "language": "R",
   "name": "ir"
  },
  "language_info": {
   "codemirror_mode": "r",
   "file_extension": ".r",
   "mimetype": "text/x-r-source",
   "name": "R",
   "pygments_lexer": "r",
   "version": "4.3.1"
  }
 },
 "nbformat": 4,
 "nbformat_minor": 5
}
