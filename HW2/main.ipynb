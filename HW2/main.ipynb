{
 "cells": [
  {
   "cell_type": "markdown",
   "id": "0bdaabe5-6b4d-42a0-91bd-451d72419d50",
   "metadata": {},
   "source": [
    "# Homework 2 - Working with tables"
   ]
  },
  {
   "cell_type": "markdown",
   "id": "e7416f97-2165-4ee8-979b-e99be2097e60",
   "metadata": {},
   "source": [
    "## Apartment prices\n",
    "In this section we will calculate the price per square meter of apartments in the Booli dataset"
   ]
  },
  {
   "cell_type": "code",
   "execution_count": 39,
   "id": "10a59ba5-00ee-40f8-81bd-e4a9c0e84f4d",
   "metadata": {},
   "outputs": [],
   "source": [
    "data <- read.csv(\"Booli_sold.csv\")\n",
    "data$ppsqm <- as.numeric(data$soldPrice) / as.numeric(data$livingArea)"
   ]
  },
  {
   "cell_type": "markdown",
   "id": "e89d91ea-cc6b-40a2-a08e-4ef36b8089e5",
   "metadata": {},
   "source": [
    "We will now find the five most expensive apartments with respect to the price per square meter"
   ]
  },
  {
   "cell_type": "code",
   "execution_count": 40,
   "id": "cefbd858-089b-4665-bd49-680fb5ae157c",
   "metadata": {},
   "outputs": [
    {
     "data": {
      "text/html": [
       "<table class=\"dataframe\">\n",
       "<caption>A data.frame: 5 × 28</caption>\n",
       "<thead>\n",
       "\t<tr><th></th><th scope=col>listPrice</th><th scope=col>rent</th><th scope=col>livingArea</th><th scope=col>rooms</th><th scope=col>published</th><th scope=col>constructionYear</th><th scope=col>objectType</th><th scope=col>booliId</th><th scope=col>soldDate</th><th scope=col>soldPrice</th><th scope=col>⋯</th><th scope=col>location.position.longitude</th><th scope=col>location.position.isApproximate</th><th scope=col>location.region.municipalityName</th><th scope=col>location.region.countyName</th><th scope=col>location.distance.ocean</th><th scope=col>source.name</th><th scope=col>source.id</th><th scope=col>source.type</th><th scope=col>source.url</th><th scope=col>ppsqm</th></tr>\n",
       "\t<tr><th></th><th scope=col>&lt;int&gt;</th><th scope=col>&lt;int&gt;</th><th scope=col>&lt;dbl&gt;</th><th scope=col>&lt;dbl&gt;</th><th scope=col>&lt;chr&gt;</th><th scope=col>&lt;int&gt;</th><th scope=col>&lt;chr&gt;</th><th scope=col>&lt;int&gt;</th><th scope=col>&lt;chr&gt;</th><th scope=col>&lt;int&gt;</th><th scope=col>⋯</th><th scope=col>&lt;dbl&gt;</th><th scope=col>&lt;lgl&gt;</th><th scope=col>&lt;chr&gt;</th><th scope=col>&lt;chr&gt;</th><th scope=col>&lt;int&gt;</th><th scope=col>&lt;chr&gt;</th><th scope=col>&lt;int&gt;</th><th scope=col>&lt;chr&gt;</th><th scope=col>&lt;chr&gt;</th><th scope=col>&lt;dbl&gt;</th></tr>\n",
       "</thead>\n",
       "<tbody>\n",
       "\t<tr><th scope=row>68</th><td>1595000</td><td>1464</td><td>24.0</td><td>1</td><td>2016-01-07 14:51:06</td><td>1935</td><td>Lägenhet</td><td>2018259</td><td>2016-01-21</td><td>2500000</td><td>⋯</td><td>18.05527</td><td>  NA</td><td>Stockholm</td><td>Stockholms län</td><td>161</td><td>Notar        </td><td>1566</td><td>Broker</td><td>http://www.notar.se/        </td><td>104166.67</td></tr>\n",
       "\t<tr><th scope=row>51</th><td>1890000</td><td>1464</td><td>24.0</td><td>1</td><td>2016-06-11 08:55:51</td><td>1935</td><td>Lägenhet</td><td>2125576</td><td>2016-06-21</td><td>2450000</td><td>⋯</td><td>18.05527</td><td>  NA</td><td>Stockholm</td><td>Stockholms län</td><td>161</td><td>HusmanHagberg</td><td>1610</td><td>Broker</td><td>http://www.husmanhagberg.se/</td><td>102083.33</td></tr>\n",
       "\t<tr><th scope=row>55</th><td>1795000</td><td>1374</td><td>23.0</td><td>1</td><td>2016-04-15 19:10:49</td><td>1935</td><td>Lägenhet</td><td>2078171</td><td>2016-04-28</td><td>2300000</td><td>⋯</td><td>18.05542</td><td>TRUE</td><td>Stockholm</td><td>Stockholms län</td><td>135</td><td>Notar        </td><td>1566</td><td>Broker</td><td>http://www.notar.se/        </td><td>100000.00</td></tr>\n",
       "\t<tr><th scope=row>35</th><td>1750000</td><td>1144</td><td>25.0</td><td>1</td><td>2017-05-18 16:20:57</td><td>1936</td><td>Lägenhet</td><td>2330886</td><td>2017-06-01</td><td>2210000</td><td>⋯</td><td>18.05388</td><td>  NA</td><td>Stockholm</td><td>Stockholms län</td><td>218</td><td>HusmanHagberg</td><td>1610</td><td>Broker</td><td>http://www.husmanhagberg.se/</td><td> 88400.00</td></tr>\n",
       "\t<tr><th scope=row>56</th><td>1895000</td><td>1522</td><td>26.9</td><td>1</td><td>2016-04-01 22:56:37</td><td>1968</td><td>Lägenhet</td><td>2067384</td><td>2016-04-19</td><td>2300000</td><td>⋯</td><td>18.05853</td><td>TRUE</td><td>Stockholm</td><td>Stockholms län</td><td>298</td><td>Notar        </td><td>1566</td><td>Broker</td><td>http://www.notar.se/        </td><td> 85501.86</td></tr>\n",
       "</tbody>\n",
       "</table>\n"
      ],
      "text/latex": [
       "A data.frame: 5 × 28\n",
       "\\begin{tabular}{r|lllllllllllllllllllll}\n",
       "  & listPrice & rent & livingArea & rooms & published & constructionYear & objectType & booliId & soldDate & soldPrice & ⋯ & location.position.longitude & location.position.isApproximate & location.region.municipalityName & location.region.countyName & location.distance.ocean & source.name & source.id & source.type & source.url & ppsqm\\\\\n",
       "  & <int> & <int> & <dbl> & <dbl> & <chr> & <int> & <chr> & <int> & <chr> & <int> & ⋯ & <dbl> & <lgl> & <chr> & <chr> & <int> & <chr> & <int> & <chr> & <chr> & <dbl>\\\\\n",
       "\\hline\n",
       "\t68 & 1595000 & 1464 & 24.0 & 1 & 2016-01-07 14:51:06 & 1935 & Lägenhet & 2018259 & 2016-01-21 & 2500000 & ⋯ & 18.05527 &   NA & Stockholm & Stockholms län & 161 & Notar         & 1566 & Broker & http://www.notar.se/         & 104166.67\\\\\n",
       "\t51 & 1890000 & 1464 & 24.0 & 1 & 2016-06-11 08:55:51 & 1935 & Lägenhet & 2125576 & 2016-06-21 & 2450000 & ⋯ & 18.05527 &   NA & Stockholm & Stockholms län & 161 & HusmanHagberg & 1610 & Broker & http://www.husmanhagberg.se/ & 102083.33\\\\\n",
       "\t55 & 1795000 & 1374 & 23.0 & 1 & 2016-04-15 19:10:49 & 1935 & Lägenhet & 2078171 & 2016-04-28 & 2300000 & ⋯ & 18.05542 & TRUE & Stockholm & Stockholms län & 135 & Notar         & 1566 & Broker & http://www.notar.se/         & 100000.00\\\\\n",
       "\t35 & 1750000 & 1144 & 25.0 & 1 & 2017-05-18 16:20:57 & 1936 & Lägenhet & 2330886 & 2017-06-01 & 2210000 & ⋯ & 18.05388 &   NA & Stockholm & Stockholms län & 218 & HusmanHagberg & 1610 & Broker & http://www.husmanhagberg.se/ &  88400.00\\\\\n",
       "\t56 & 1895000 & 1522 & 26.9 & 1 & 2016-04-01 22:56:37 & 1968 & Lägenhet & 2067384 & 2016-04-19 & 2300000 & ⋯ & 18.05853 & TRUE & Stockholm & Stockholms län & 298 & Notar         & 1566 & Broker & http://www.notar.se/         &  85501.86\\\\\n",
       "\\end{tabular}\n"
      ],
      "text/markdown": [
       "\n",
       "A data.frame: 5 × 28\n",
       "\n",
       "| <!--/--> | listPrice &lt;int&gt; | rent &lt;int&gt; | livingArea &lt;dbl&gt; | rooms &lt;dbl&gt; | published &lt;chr&gt; | constructionYear &lt;int&gt; | objectType &lt;chr&gt; | booliId &lt;int&gt; | soldDate &lt;chr&gt; | soldPrice &lt;int&gt; | ⋯ ⋯ | location.position.longitude &lt;dbl&gt; | location.position.isApproximate &lt;lgl&gt; | location.region.municipalityName &lt;chr&gt; | location.region.countyName &lt;chr&gt; | location.distance.ocean &lt;int&gt; | source.name &lt;chr&gt; | source.id &lt;int&gt; | source.type &lt;chr&gt; | source.url &lt;chr&gt; | ppsqm &lt;dbl&gt; |\n",
       "|---|---|---|---|---|---|---|---|---|---|---|---|---|---|---|---|---|---|---|---|---|---|\n",
       "| 68 | 1595000 | 1464 | 24.0 | 1 | 2016-01-07 14:51:06 | 1935 | Lägenhet | 2018259 | 2016-01-21 | 2500000 | ⋯ | 18.05527 |   NA | Stockholm | Stockholms län | 161 | Notar         | 1566 | Broker | http://www.notar.se/         | 104166.67 |\n",
       "| 51 | 1890000 | 1464 | 24.0 | 1 | 2016-06-11 08:55:51 | 1935 | Lägenhet | 2125576 | 2016-06-21 | 2450000 | ⋯ | 18.05527 |   NA | Stockholm | Stockholms län | 161 | HusmanHagberg | 1610 | Broker | http://www.husmanhagberg.se/ | 102083.33 |\n",
       "| 55 | 1795000 | 1374 | 23.0 | 1 | 2016-04-15 19:10:49 | 1935 | Lägenhet | 2078171 | 2016-04-28 | 2300000 | ⋯ | 18.05542 | TRUE | Stockholm | Stockholms län | 135 | Notar         | 1566 | Broker | http://www.notar.se/         | 100000.00 |\n",
       "| 35 | 1750000 | 1144 | 25.0 | 1 | 2017-05-18 16:20:57 | 1936 | Lägenhet | 2330886 | 2017-06-01 | 2210000 | ⋯ | 18.05388 |   NA | Stockholm | Stockholms län | 218 | HusmanHagberg | 1610 | Broker | http://www.husmanhagberg.se/ |  88400.00 |\n",
       "| 56 | 1895000 | 1522 | 26.9 | 1 | 2016-04-01 22:56:37 | 1968 | Lägenhet | 2067384 | 2016-04-19 | 2300000 | ⋯ | 18.05853 | TRUE | Stockholm | Stockholms län | 298 | Notar         | 1566 | Broker | http://www.notar.se/         |  85501.86 |\n",
       "\n"
      ],
      "text/plain": [
       "   listPrice rent livingArea rooms published           constructionYear\n",
       "68 1595000   1464 24.0       1     2016-01-07 14:51:06 1935            \n",
       "51 1890000   1464 24.0       1     2016-06-11 08:55:51 1935            \n",
       "55 1795000   1374 23.0       1     2016-04-15 19:10:49 1935            \n",
       "35 1750000   1144 25.0       1     2017-05-18 16:20:57 1936            \n",
       "56 1895000   1522 26.9       1     2016-04-01 22:56:37 1968            \n",
       "   objectType booliId soldDate   soldPrice ⋯ location.position.longitude\n",
       "68 Lägenhet   2018259 2016-01-21 2500000   ⋯ 18.05527                   \n",
       "51 Lägenhet   2125576 2016-06-21 2450000   ⋯ 18.05527                   \n",
       "55 Lägenhet   2078171 2016-04-28 2300000   ⋯ 18.05542                   \n",
       "35 Lägenhet   2330886 2017-06-01 2210000   ⋯ 18.05388                   \n",
       "56 Lägenhet   2067384 2016-04-19 2300000   ⋯ 18.05853                   \n",
       "   location.position.isApproximate location.region.municipalityName\n",
       "68   NA                            Stockholm                       \n",
       "51   NA                            Stockholm                       \n",
       "55 TRUE                            Stockholm                       \n",
       "35   NA                            Stockholm                       \n",
       "56 TRUE                            Stockholm                       \n",
       "   location.region.countyName location.distance.ocean source.name   source.id\n",
       "68 Stockholms län             161                     Notar         1566     \n",
       "51 Stockholms län             161                     HusmanHagberg 1610     \n",
       "55 Stockholms län             135                     Notar         1566     \n",
       "35 Stockholms län             218                     HusmanHagberg 1610     \n",
       "56 Stockholms län             298                     Notar         1566     \n",
       "   source.type source.url                   ppsqm    \n",
       "68 Broker      http://www.notar.se/         104166.67\n",
       "51 Broker      http://www.husmanhagberg.se/ 102083.33\n",
       "55 Broker      http://www.notar.se/         100000.00\n",
       "35 Broker      http://www.husmanhagberg.se/  88400.00\n",
       "56 Broker      http://www.notar.se/          85501.86"
      ]
     },
     "metadata": {},
     "output_type": "display_data"
    }
   ],
   "source": [
    "sorted_data <- data[order(-data$ppsqm),]\n",
    "five_most_expensive <- sorted_data[1:5,]\n",
    "head(five_most_expensive)"
   ]
  },
  {
   "cell_type": "markdown",
   "id": "206df284-c7b0-4594-b94f-954efb01715b",
   "metadata": {},
   "source": [
    "Finally we will find the average price per square meter of apartments in Ekhagen ( I am assuming this refers to apartments on Ekhagsvägen). We will have to remove a NAN price also\n"
   ]
  },
  {
   "cell_type": "code",
   "execution_count": 52,
   "id": "fba4ffc8-1b22-43f4-8f10-54e15c8ca661",
   "metadata": {},
   "outputs": [
    {
     "name": "stdout",
     "output_type": "stream",
     "text": [
      "[1] \"The mean price per square meter of an apartment in Ekhagen is: 60636.481265425\"\n"
     ]
    }
   ],
   "source": [
    "ekhagen_data <- data[grepl(\"Ekhagsvägen\",data$location.address.streetAddress),]\n",
    "ekhagen_data_cleaned <- ekhagen_data[!is.na(ekhagen_data$ppsqm),]\n",
    "print(paste(\"The mean price per square meter of an apartment in Ekhagen is:\",mean(ekhagen_data_cleaned$ppsqm)))"
   ]
  },
  {
   "cell_type": "markdown",
   "id": "0b5481bc-5c00-4f23-91b5-b34e6217c045",
   "metadata": {},
   "source": [
    "I wish to highlight the interesting fact that there seems to be a negative relationship between living area and price per square mile, that is the smaller your apartment is the more you pay per unit of living area. "
   ]
  },
  {
   "cell_type": "code",
   "execution_count": 88,
   "id": "94876903-bed2-44d0-8493-1f6b36a2032b",
   "metadata": {},
   "outputs": [
    {
     "data": {
      "image/png": "[encoded data removed]",
      "text/plain": [
       "plot without title"
      ]
     },
     "metadata": {
      "image/png": {
       "height": 420,
       "width": 420
      }
     },
     "output_type": "display_data"
    }
   ],
   "source": [
    "cleaned_data <- data[!is.na(data$ppsqm),]\n",
    "plot(log(cleaned_data$livingArea), log(cleaned_data$ppsqm))"
   ]
  },
  {
   "cell_type": "markdown",
   "id": "7778807d-93f0-4f6f-9815-3b70c85280e8",
   "metadata": {},
   "source": [
    "## The Swedish Election of 2018"
   ]
  },
  {
   "cell_type": "code",
   "execution_count": 68,
   "id": "7d7b0b00-cba4-43bc-ab44-884ffb54822f",
   "metadata": {},
   "outputs": [
    {
     "data": {
      "text/html": [
       "<table class=\"dataframe\">\n",
       "<caption>A data.frame: 290 × 45</caption>\n",
       "<thead>\n",
       "\t<tr><th scope=col>LÄNSKOD</th><th scope=col>KOMMUNKOD</th><th scope=col>LÄNSNAMN</th><th scope=col>KOMMUNNAMN</th><th scope=col>M</th><th scope=col>C</th><th scope=col>L</th><th scope=col>KD</th><th scope=col>S</th><th scope=col>V</th><th scope=col>⋯</th><th scope=col>TRP</th><th scope=col>VL.S</th><th scope=col>ÖVR</th><th scope=col>OGEJ</th><th scope=col>BLANK</th><th scope=col>OG</th><th scope=col>RÖSTER.GILTIGA</th><th scope=col>RÖSTANDE</th><th scope=col>RÖSTBERÄTTIGADE</th><th scope=col>VALDELTAGANDE</th></tr>\n",
       "\t<tr><th scope=col>&lt;int&gt;</th><th scope=col>&lt;int&gt;</th><th scope=col>&lt;chr&gt;</th><th scope=col>&lt;chr&gt;</th><th scope=col>&lt;chr&gt;</th><th scope=col>&lt;chr&gt;</th><th scope=col>&lt;chr&gt;</th><th scope=col>&lt;chr&gt;</th><th scope=col>&lt;chr&gt;</th><th scope=col>&lt;chr&gt;</th><th scope=col>⋯</th><th scope=col>&lt;chr&gt;</th><th scope=col>&lt;chr&gt;</th><th scope=col>&lt;chr&gt;</th><th scope=col>&lt;chr&gt;</th><th scope=col>&lt;chr&gt;</th><th scope=col>&lt;chr&gt;</th><th scope=col>&lt;int&gt;</th><th scope=col>&lt;int&gt;</th><th scope=col>&lt;int&gt;</th><th scope=col>&lt;chr&gt;</th></tr>\n",
       "</thead>\n",
       "<tbody>\n",
       "\t<tr><td>1</td><td>14</td><td>Stockholms län</td><td>Upplands Väsby</td><td>23,11</td><td>6,26 </td><td>5,66 </td><td>6,71 </td><td>26,97</td><td>8,01 </td><td>⋯</td><td> </td><td></td><td>    </td><td>0,04</td><td>0,69</td><td>0,06</td><td> 25830</td><td> 26036</td><td> 30740</td><td>84,7 </td></tr>\n",
       "\t<tr><td>1</td><td>15</td><td>Stockholms län</td><td>Vallentuna    </td><td>28,29</td><td>10,11</td><td>7,73 </td><td>7,58 </td><td>18,91</td><td>4,47 </td><td>⋯</td><td>0</td><td></td><td>0   </td><td>0,02</td><td>0,59</td><td>0,08</td><td> 20952</td><td> 21099</td><td> 23438</td><td>90,02</td></tr>\n",
       "\t<tr><td>1</td><td>17</td><td>Stockholms län</td><td>Österåker     </td><td>29,68</td><td>9,35 </td><td>7,48 </td><td>7,13 </td><td>19,71</td><td>4,97 </td><td>⋯</td><td> </td><td></td><td>0,01</td><td>0,03</td><td>0,69</td><td>0,13</td><td> 27711</td><td> 27947</td><td> 31309</td><td>89,26</td></tr>\n",
       "\t<tr><td>1</td><td>20</td><td>Stockholms län</td><td>Värmdö        </td><td>27,49</td><td>9,76 </td><td>6,4  </td><td>5,89 </td><td>20,48</td><td>6,02 </td><td>⋯</td><td> </td><td></td><td>0,01</td><td>0,04</td><td>0,67</td><td>0,07</td><td> 28115</td><td> 28335</td><td> 31371</td><td>90,32</td></tr>\n",
       "\t<tr><td>1</td><td>23</td><td>Stockholms län</td><td>Järfälla      </td><td>23,96</td><td>6,31 </td><td>6,04 </td><td>6,29 </td><td>27,68</td><td>8,75 </td><td>⋯</td><td>0</td><td></td><td>0,02</td><td>0,04</td><td>0,53</td><td>0,07</td><td> 45654</td><td> 45948</td><td> 53230</td><td>86,32</td></tr>\n",
       "\t<tr><td>1</td><td>25</td><td>Stockholms län</td><td>Ekerö         </td><td>28,12</td><td>11,24</td><td>7,64 </td><td>7,85 </td><td>17,17</td><td>4,76 </td><td>⋯</td><td> </td><td></td><td>0,01</td><td>0,01</td><td>0,64</td><td>0,08</td><td> 17814</td><td> 17946</td><td> 19472</td><td>92,16</td></tr>\n",
       "\t<tr><td>1</td><td>26</td><td>Stockholms län</td><td>Huddinge      </td><td>24,07</td><td>7,52 </td><td>6,14 </td><td>5,35 </td><td>26,1 </td><td>8,63 </td><td>⋯</td><td> </td><td></td><td>0,01</td><td>0,04</td><td>0,58</td><td>0,07</td><td> 61440</td><td> 61869</td><td> 72839</td><td>84,94</td></tr>\n",
       "\t<tr><td>1</td><td>27</td><td>Stockholms län</td><td>Botkyrka      </td><td>18,52</td><td>5,19 </td><td>4,39 </td><td>8,13 </td><td>32,34</td><td>9,85 </td><td>⋯</td><td> </td><td></td><td>0,06</td><td>0,03</td><td>0,64</td><td>0,05</td><td> 45393</td><td> 45719</td><td> 58436</td><td>78,24</td></tr>\n",
       "\t<tr><td>1</td><td>28</td><td>Stockholms län</td><td>Salem         </td><td>24,84</td><td>7,61 </td><td>7,58 </td><td>7,98 </td><td>23,07</td><td>5,98 </td><td>⋯</td><td> </td><td></td><td>    </td><td>0,04</td><td>0,75</td><td>0,02</td><td>  9985</td><td> 10066</td><td> 11463</td><td>87,81</td></tr>\n",
       "\t<tr><td>1</td><td>36</td><td>Stockholms län</td><td>Haninge       </td><td>22,94</td><td>6,06 </td><td>5,11 </td><td>5,36 </td><td>27,29</td><td>7,99 </td><td>⋯</td><td>0</td><td></td><td>0,01</td><td>0,05</td><td>0,79</td><td>0,05</td><td> 50484</td><td> 50940</td><td> 59890</td><td>85,06</td></tr>\n",
       "\t<tr><td>1</td><td>38</td><td>Stockholms län</td><td>Tyresö        </td><td>25,84</td><td>7,93 </td><td>6,94 </td><td>5,75 </td><td>23,87</td><td>6,37 </td><td>⋯</td><td> </td><td></td><td>0   </td><td>0,03</td><td>0,64</td><td>0,06</td><td> 30260</td><td> 30482</td><td> 33776</td><td>90,25</td></tr>\n",
       "\t<tr><td>1</td><td>39</td><td>Stockholms län</td><td>Upplands-Bro  </td><td>23,16</td><td>6,01 </td><td>5,43 </td><td>7,54 </td><td>26,16</td><td>6,65 </td><td>⋯</td><td> </td><td></td><td>0,01</td><td>0,04</td><td>0,75</td><td>0,05</td><td> 16366</td><td> 16506</td><td> 19023</td><td>86,77</td></tr>\n",
       "\t<tr><td>1</td><td>40</td><td>Stockholms län</td><td>Nykvarn       </td><td>27,24</td><td>7,65 </td><td>4,56 </td><td>6,06 </td><td>22,42</td><td>3,52 </td><td>⋯</td><td> </td><td></td><td>    </td><td>    </td><td>0,93</td><td>0,07</td><td>  6847</td><td>  6916</td><td>  7623</td><td>90,73</td></tr>\n",
       "\t<tr><td>1</td><td>60</td><td>Stockholms län</td><td>Täby          </td><td>35,97</td><td>10,98</td><td>10,71</td><td>8,31 </td><td>13,99</td><td>3,2  </td><td>⋯</td><td> </td><td></td><td>0,01</td><td>0,01</td><td>0,44</td><td>0,04</td><td> 46386</td><td> 46616</td><td> 51157</td><td>91,12</td></tr>\n",
       "\t<tr><td>1</td><td>62</td><td>Stockholms län</td><td>Danderyd      </td><td>41,59</td><td>11,28</td><td>11,19</td><td>10,1 </td><td>8,04 </td><td>2,36 </td><td>⋯</td><td> </td><td></td><td>    </td><td>0,03</td><td>0,24</td><td>0,03</td><td> 21897</td><td> 21961</td><td> 23891</td><td>91,92</td></tr>\n",
       "\t<tr><td>1</td><td>63</td><td>Stockholms län</td><td>Sollentuna    </td><td>28,07</td><td>10,18</td><td>8,97 </td><td>7,53 </td><td>20,85</td><td>6,49 </td><td>⋯</td><td> </td><td></td><td>0,01</td><td>0,03</td><td>0,5 </td><td>0,06</td><td> 43676</td><td> 43934</td><td> 49597</td><td>88,58</td></tr>\n",
       "\t<tr><td>1</td><td>80</td><td>Stockholms län</td><td>Stockholm     </td><td>21,88</td><td>9,07 </td><td>7,85 </td><td>4,87 </td><td>23,76</td><td>13,12</td><td>⋯</td><td> </td><td></td><td>0,01</td><td>0,04</td><td>0,49</td><td>0,06</td><td>611206</td><td>614860</td><td>704157</td><td>87,32</td></tr>\n",
       "\t<tr><td>1</td><td>81</td><td>Stockholms län</td><td>Södertälje    </td><td>19,81</td><td>5,86 </td><td>4,45 </td><td>11,17</td><td>27,18</td><td>7,7  </td><td>⋯</td><td> </td><td></td><td>0   </td><td>0,03</td><td>0,76</td><td>0,06</td><td> 48273</td><td> 48684</td><td> 62783</td><td>77,54</td></tr>\n",
       "\t<tr><td>1</td><td>82</td><td>Stockholms län</td><td>Nacka         </td><td>28,73</td><td>12,18</td><td>8,41 </td><td>6,1  </td><td>19,37</td><td>6,54 </td><td>⋯</td><td> </td><td></td><td>0   </td><td>0,03</td><td>0,49</td><td>0,04</td><td> 64101</td><td> 64465</td><td> 71629</td><td>90   </td></tr>\n",
       "\t<tr><td>1</td><td>83</td><td>Stockholms län</td><td>Sundbyberg    </td><td>22,37</td><td>8,05 </td><td>7,06 </td><td>5,03 </td><td>26,6 </td><td>11,04</td><td>⋯</td><td> </td><td></td><td>0,01</td><td>0,03</td><td>0,59</td><td>0,05</td><td> 29807</td><td> 30009</td><td> 35047</td><td>85,63</td></tr>\n",
       "\t<tr><td>1</td><td>84</td><td>Stockholms län</td><td>Solna         </td><td>23,71</td><td>9,03 </td><td>8,12 </td><td>5,8  </td><td>24   </td><td>9,89 </td><td>⋯</td><td> </td><td></td><td>0   </td><td>0,03</td><td>0,46</td><td>0,06</td><td> 50510</td><td> 50788</td><td> 58093</td><td>87,43</td></tr>\n",
       "\t<tr><td>1</td><td>86</td><td>Stockholms län</td><td>Lidingö       </td><td>36,02</td><td>11,79</td><td>10,78</td><td>8,59 </td><td>12,35</td><td>3,5  </td><td>⋯</td><td> </td><td></td><td>    </td><td>0,01</td><td>0,28</td><td>0,04</td><td> 31032</td><td> 31138</td><td> 34536</td><td>90,16</td></tr>\n",
       "\t<tr><td>1</td><td>87</td><td>Stockholms län</td><td>Vaxholm       </td><td>30,31</td><td>13,3 </td><td>7,76 </td><td>7,9  </td><td>16,37</td><td>4,7  </td><td>⋯</td><td> </td><td></td><td>0,01</td><td>0,04</td><td>0,48</td><td>0,06</td><td>  8106</td><td>  8153</td><td>  8791</td><td>92,74</td></tr>\n",
       "\t<tr><td>1</td><td>88</td><td>Stockholms län</td><td>Norrtälje     </td><td>22,23</td><td>9,6  </td><td>4,74 </td><td>5,92 </td><td>26,24</td><td>6,21 </td><td>⋯</td><td> </td><td></td><td>0   </td><td>0,02</td><td>1,09</td><td>0,02</td><td> 41174</td><td> 41643</td><td> 47811</td><td>87,1 </td></tr>\n",
       "\t<tr><td>1</td><td>91</td><td>Stockholms län</td><td>Sigtuna       </td><td>24,66</td><td>6,65 </td><td>4,93 </td><td>7,56 </td><td>25,49</td><td>6,39 </td><td>⋯</td><td> </td><td></td><td>0,02</td><td>0,04</td><td>0,68</td><td>0,04</td><td> 25576</td><td> 25772</td><td> 31071</td><td>82,95</td></tr>\n",
       "\t<tr><td>1</td><td>92</td><td>Stockholms län</td><td>Nynäshamn     </td><td>21,05</td><td>6,44 </td><td>4,49 </td><td>5,82 </td><td>27,28</td><td>6,76 </td><td>⋯</td><td> </td><td></td><td>    </td><td>0,05</td><td>0,85</td><td>0,07</td><td> 17642</td><td> 17815</td><td> 20606</td><td>86,46</td></tr>\n",
       "\t<tr><td>3</td><td> 5</td><td>Uppsala län   </td><td>Håbo          </td><td>26,56</td><td>7,1  </td><td>5,35 </td><td>6,51 </td><td>21,13</td><td>5,2  </td><td>⋯</td><td> </td><td></td><td>0,01</td><td>0,01</td><td>0,92</td><td>0,07</td><td> 13395</td><td> 13530</td><td> 15185</td><td>89,1 </td></tr>\n",
       "\t<tr><td>3</td><td>19</td><td>Uppsala län   </td><td>Älvkarleby    </td><td>11,65</td><td>4,41 </td><td>3,43 </td><td>4,28 </td><td>39,27</td><td>6,82 </td><td>⋯</td><td> </td><td></td><td>    </td><td>    </td><td>1,2 </td><td>0,08</td><td>  6009</td><td>  6087</td><td>  6955</td><td>87,52</td></tr>\n",
       "\t<tr><td>3</td><td>30</td><td>Uppsala län   </td><td>Knivsta       </td><td>23,31</td><td>10,7 </td><td>7,24 </td><td>8,55 </td><td>20,83</td><td>5,42 </td><td>⋯</td><td> </td><td></td><td>0,01</td><td>0,04</td><td>0,62</td><td>0,03</td><td> 11276</td><td> 11353</td><td> 12429</td><td>91,34</td></tr>\n",
       "\t<tr><td>3</td><td>31</td><td>Uppsala län   </td><td>Heby          </td><td>13,78</td><td>13,2 </td><td>2,98 </td><td>8,01 </td><td>29,14</td><td>5,54 </td><td>⋯</td><td> </td><td></td><td>    </td><td>0,03</td><td>1,38</td><td>0,04</td><td>  9064</td><td>  9198</td><td> 10607</td><td>86,72</td></tr>\n",
       "\t<tr><td>⋮</td><td>⋮</td><td>⋮</td><td>⋮</td><td>⋮</td><td>⋮</td><td>⋮</td><td>⋮</td><td>⋮</td><td>⋮</td><td>⋱</td><td>⋮</td><td>⋮</td><td>⋮</td><td>⋮</td><td>⋮</td><td>⋮</td><td>⋮</td><td>⋮</td><td>⋮</td><td>⋮</td></tr>\n",
       "\t<tr><td>23</td><td>80</td><td>Jämtlands län    </td><td>Östersund  </td><td>15,59</td><td>14,22</td><td>3,71</td><td>5,07</td><td>33,31</td><td>9,08 </td><td>⋯</td><td>0</td><td>    </td><td>0   </td><td>0,03</td><td>0,89</td><td>0,07</td><td>42176</td><td>42597</td><td>48471</td><td>87,88</td></tr>\n",
       "\t<tr><td>24</td><td> 1</td><td>Västerbottens län</td><td>Nordmaling </td><td>12,95</td><td>13,57</td><td>3,26</td><td>5,86</td><td>35,91</td><td>9,15 </td><td>⋯</td><td> </td><td>    </td><td>0,02</td><td>0,02</td><td>0,87</td><td>0,09</td><td> 4656</td><td> 4702</td><td> 5478</td><td>85,83</td></tr>\n",
       "\t<tr><td>24</td><td> 3</td><td>Västerbottens län</td><td>Bjurholm   </td><td>17,9 </td><td>14,68</td><td>4,98</td><td>7,62</td><td>29,24</td><td>5,04 </td><td>⋯</td><td> </td><td>    </td><td>0,06</td><td>    </td><td>0,94</td><td>    </td><td> 1587</td><td> 1602</td><td> 1886</td><td>84,94</td></tr>\n",
       "\t<tr><td>24</td><td> 4</td><td>Västerbottens län</td><td>Vindeln    </td><td>14,84</td><td>14,57</td><td>2,68</td><td>7,34</td><td>32,44</td><td>8,13 </td><td>⋯</td><td> </td><td>    </td><td>0,06</td><td>0,06</td><td>0,75</td><td>0,03</td><td> 3431</td><td> 3460</td><td> 4073</td><td>84,95</td></tr>\n",
       "\t<tr><td>24</td><td> 9</td><td>Västerbottens län</td><td>Robertsfors</td><td>10,54</td><td>18,51</td><td>2,38</td><td>5,03</td><td>37,94</td><td>10,34</td><td>⋯</td><td> </td><td>    </td><td>    </td><td>0,02</td><td>0,77</td><td>0,02</td><td> 4489</td><td> 4526</td><td> 5195</td><td>87,12</td></tr>\n",
       "\t<tr><td>24</td><td>17</td><td>Västerbottens län</td><td>Norsjö     </td><td>7,9  </td><td>10,79</td><td>4,03</td><td>9,23</td><td>42,18</td><td>10,05</td><td>⋯</td><td> </td><td>    </td><td>0,08</td><td>    </td><td>1,23</td><td>0,08</td><td> 2558</td><td> 2592</td><td> 3092</td><td>83,83</td></tr>\n",
       "\t<tr><td>24</td><td>18</td><td>Västerbottens län</td><td>Malå       </td><td>8,98 </td><td>8,01 </td><td>3,88</td><td>5,61</td><td>42,99</td><td>14,18</td><td>⋯</td><td> </td><td>    </td><td>    </td><td>0,05</td><td>1,65</td><td>0,05</td><td> 1961</td><td> 1996</td><td> 2347</td><td>85,04</td></tr>\n",
       "\t<tr><td>24</td><td>21</td><td>Västerbottens län</td><td>Storuman   </td><td>12,08</td><td>10,95</td><td>3,47</td><td>7,87</td><td>34,39</td><td>10,87</td><td>⋯</td><td> </td><td>    </td><td>    </td><td>0,03</td><td>1,48</td><td>    </td><td> 3800</td><td> 3858</td><td> 4637</td><td>83,2 </td></tr>\n",
       "\t<tr><td>24</td><td>22</td><td>Västerbottens län</td><td>Sorsele    </td><td>10,96</td><td>12,22</td><td>1,92</td><td>6,94</td><td>35,67</td><td>12,75</td><td>⋯</td><td> </td><td>    </td><td>    </td><td>0,13</td><td>2,38</td><td>    </td><td> 1514</td><td> 1553</td><td> 1922</td><td>80,8 </td></tr>\n",
       "\t<tr><td>24</td><td>25</td><td>Västerbottens län</td><td>Dorotea    </td><td>6,16 </td><td>14,88</td><td>3,6 </td><td>4,88</td><td>43,78</td><td>10,64</td><td>⋯</td><td> </td><td>    </td><td>    </td><td>0,06</td><td>1,94</td><td>0,06</td><td> 1720</td><td> 1756</td><td> 2076</td><td>84,59</td></tr>\n",
       "\t<tr><td>24</td><td>60</td><td>Västerbottens län</td><td>Vännäs     </td><td>12,72</td><td>13,05</td><td>2,81</td><td>6,02</td><td>34,62</td><td>13,13</td><td>⋯</td><td> </td><td>    </td><td>    </td><td>0,04</td><td>0,51</td><td>0,07</td><td> 5615</td><td> 5650</td><td> 6523</td><td>86,62</td></tr>\n",
       "\t<tr><td>24</td><td>62</td><td>Västerbottens län</td><td>Vilhelmina </td><td>7,47 </td><td>14,24</td><td>1,81</td><td>7,29</td><td>37,29</td><td>10,79</td><td>⋯</td><td> </td><td>    </td><td>    </td><td>    </td><td>1,06</td><td>0,11</td><td> 4376</td><td> 4428</td><td> 5244</td><td>84,44</td></tr>\n",
       "\t<tr><td>24</td><td>63</td><td>Västerbottens län</td><td>Åsele      </td><td>8,7  </td><td>16,68</td><td>2,66</td><td>4,76</td><td>40,28</td><td>8,64 </td><td>⋯</td><td> </td><td>    </td><td>    </td><td>0,05</td><td>1,04</td><td>    </td><td> 1805</td><td> 1825</td><td> 2138</td><td>85,36</td></tr>\n",
       "\t<tr><td>24</td><td>80</td><td>Västerbottens län</td><td>Umeå       </td><td>15,36</td><td>9,51 </td><td>4,7 </td><td>4,48</td><td>34,53</td><td>15,66</td><td>⋯</td><td> </td><td>    </td><td>0,01</td><td>0,03</td><td>0,58</td><td>0,04</td><td>84574</td><td>85125</td><td>95033</td><td>89,57</td></tr>\n",
       "\t<tr><td>24</td><td>81</td><td>Västerbottens län</td><td>Lycksele   </td><td>14,41</td><td>7,31 </td><td>3,81</td><td>9,67</td><td>38,94</td><td>9,45 </td><td>⋯</td><td> </td><td>    </td><td>    </td><td>0,03</td><td>0,95</td><td>0,1 </td><td> 7787</td><td> 7872</td><td> 9321</td><td>84,45</td></tr>\n",
       "\t<tr><td>24</td><td>82</td><td>Västerbottens län</td><td>Skellefteå </td><td>11,95</td><td>8,83 </td><td>3,38</td><td>4,88</td><td>45,31</td><td>9,76 </td><td>⋯</td><td> </td><td>    </td><td>0   </td><td>0,01</td><td>1   </td><td>0,04</td><td>48964</td><td>49483</td><td>56313</td><td>87,87</td></tr>\n",
       "\t<tr><td>25</td><td> 5</td><td>Norrbottens län  </td><td>Arvidsjaur </td><td>9,29 </td><td>9,34 </td><td>3,59</td><td>3,9 </td><td>44,65</td><td>10,56</td><td>⋯</td><td> </td><td>    </td><td>    </td><td>0,07</td><td>1,46</td><td>    </td><td> 4175</td><td> 4240</td><td> 4963</td><td>85,43</td></tr>\n",
       "\t<tr><td>25</td><td> 6</td><td>Norrbottens län  </td><td>Arjeplog   </td><td>8,86 </td><td>7,72 </td><td>2,88</td><td>7,18</td><td>35,18</td><td>14,3 </td><td>⋯</td><td> </td><td>    </td><td>    </td><td>0,05</td><td>1,23</td><td>0,11</td><td> 1839</td><td> 1865</td><td> 2219</td><td>84,05</td></tr>\n",
       "\t<tr><td>25</td><td>10</td><td>Norrbottens län  </td><td>Jokkmokk   </td><td>8,33 </td><td>5,2  </td><td>2,66</td><td>3,87</td><td>40,3 </td><td>14,59</td><td>⋯</td><td> </td><td>    </td><td>    </td><td>0,03</td><td>1,04</td><td>    </td><td> 3228</td><td> 3263</td><td> 3913</td><td>83,39</td></tr>\n",
       "\t<tr><td>25</td><td>13</td><td>Norrbottens län  </td><td>Överkalix  </td><td>7,81 </td><td>8,79 </td><td>2,1 </td><td>3,44</td><td>46,68</td><td>10,49</td><td>⋯</td><td> </td><td>    </td><td>0,04</td><td>    </td><td>1,28</td><td>    </td><td> 2241</td><td> 2270</td><td> 2667</td><td>85,11</td></tr>\n",
       "\t<tr><td>25</td><td>14</td><td>Norrbottens län  </td><td>Kalix      </td><td>11,71</td><td>6,42 </td><td>2,87</td><td>3,58</td><td>45,37</td><td>7,88 </td><td>⋯</td><td> </td><td>    </td><td>    </td><td>0,06</td><td>1,16</td><td>0,04</td><td>10971</td><td>11111</td><td>12765</td><td>87,04</td></tr>\n",
       "\t<tr><td>25</td><td>18</td><td>Norrbottens län  </td><td>Övertorneå </td><td>9,61 </td><td>16,29</td><td>1,71</td><td>5,39</td><td>39,5 </td><td>9,38 </td><td>⋯</td><td> </td><td>    </td><td>    </td><td>    </td><td>0,68</td><td>0,04</td><td> 2633</td><td> 2652</td><td> 3273</td><td>81,03</td></tr>\n",
       "\t<tr><td>25</td><td>21</td><td>Norrbottens län  </td><td>Pajala     </td><td>9,43 </td><td>5,07 </td><td>1,5 </td><td>7,38</td><td>37,66</td><td>20,01</td><td>⋯</td><td> </td><td>    </td><td>    </td><td>    </td><td>0,78</td><td>0,1 </td><td> 3808</td><td> 3842</td><td> 4720</td><td>81,4 </td></tr>\n",
       "\t<tr><td>25</td><td>23</td><td>Norrbottens län  </td><td>Gällivare  </td><td>12,23</td><td>3,68 </td><td>2,03</td><td>3,3 </td><td>41,95</td><td>12,86</td><td>⋯</td><td> </td><td>0,01</td><td>    </td><td>0,06</td><td>0,95</td><td>0,05</td><td>11464</td><td>11587</td><td>14081</td><td>82,29</td></tr>\n",
       "\t<tr><td>25</td><td>60</td><td>Norrbottens län  </td><td>Älvsbyn    </td><td>8,56 </td><td>9,03 </td><td>3,02</td><td>4,64</td><td>44,82</td><td>10,74</td><td>⋯</td><td> </td><td>    </td><td>    </td><td>0,02</td><td>0,64</td><td>0,09</td><td> 5306</td><td> 5346</td><td> 6257</td><td>85,44</td></tr>\n",
       "\t<tr><td>25</td><td>80</td><td>Norrbottens län  </td><td>Luleå      </td><td>15,38</td><td>7,53 </td><td>4,37</td><td>4,78</td><td>38,97</td><td>10,47</td><td>⋯</td><td> </td><td>    </td><td>0,01</td><td>0,03</td><td>0,69</td><td>0,04</td><td>53182</td><td>53589</td><td>60185</td><td>89,04</td></tr>\n",
       "\t<tr><td>25</td><td>81</td><td>Norrbottens län  </td><td>Piteå      </td><td>11,82</td><td>7,49 </td><td>2,52</td><td>4,8 </td><td>47,48</td><td>10,56</td><td>⋯</td><td> </td><td>    </td><td>0   </td><td>0,03</td><td>0,61</td><td>0,02</td><td>29523</td><td>29719</td><td>33094</td><td>89,8 </td></tr>\n",
       "\t<tr><td>25</td><td>82</td><td>Norrbottens län  </td><td>Boden      </td><td>14,32</td><td>6,23 </td><td>3,61</td><td>4,61</td><td>41,76</td><td>8,1  </td><td>⋯</td><td> </td><td>    </td><td>0,02</td><td>0,03</td><td>0,84</td><td>0,07</td><td>19110</td><td>19291</td><td>21934</td><td>87,95</td></tr>\n",
       "\t<tr><td>25</td><td>83</td><td>Norrbottens län  </td><td>Haparanda  </td><td>12,79</td><td>9,61 </td><td>1,86</td><td>5,32</td><td>36,69</td><td>5,91 </td><td>⋯</td><td> </td><td>    </td><td>    </td><td>0,04</td><td>1,01</td><td>0,11</td><td> 4402</td><td> 4454</td><td> 6120</td><td>72,78</td></tr>\n",
       "\t<tr><td>25</td><td>84</td><td>Norrbottens län  </td><td>Kiruna     </td><td>10,71</td><td>5,38 </td><td>2,51</td><td>4,91</td><td>38,23</td><td>13,46</td><td>⋯</td><td> </td><td>0,05</td><td>0,02</td><td>0,16</td><td>1,09</td><td>0,05</td><td>14796</td><td>14991</td><td>17468</td><td>85,82</td></tr>\n",
       "</tbody>\n",
       "</table>\n"
      ],
      "text/latex": [
       "A data.frame: 290 × 45\n",
       "\\begin{tabular}{lllllllllllllllllllll}\n",
       " LÄNSKOD & KOMMUNKOD & LÄNSNAMN & KOMMUNNAMN & M & C & L & KD & S & V & ⋯ & TRP & VL.S & ÖVR & OGEJ & BLANK & OG & RÖSTER.GILTIGA & RÖSTANDE & RÖSTBERÄTTIGADE & VALDELTAGANDE\\\\\n",
       " <int> & <int> & <chr> & <chr> & <chr> & <chr> & <chr> & <chr> & <chr> & <chr> & ⋯ & <chr> & <chr> & <chr> & <chr> & <chr> & <chr> & <int> & <int> & <int> & <chr>\\\\\n",
       "\\hline\n",
       "\t 1 & 14 & Stockholms län & Upplands Väsby & 23,11 & 6,26  & 5,66  & 6,71  & 26,97 & 8,01  & ⋯ &   &  &      & 0,04 & 0,69 & 0,06 &  25830 &  26036 &  30740 & 84,7 \\\\\n",
       "\t 1 & 15 & Stockholms län & Vallentuna     & 28,29 & 10,11 & 7,73  & 7,58  & 18,91 & 4,47  & ⋯ & 0 &  & 0    & 0,02 & 0,59 & 0,08 &  20952 &  21099 &  23438 & 90,02\\\\\n",
       "\t 1 & 17 & Stockholms län & Österåker      & 29,68 & 9,35  & 7,48  & 7,13  & 19,71 & 4,97  & ⋯ &   &  & 0,01 & 0,03 & 0,69 & 0,13 &  27711 &  27947 &  31309 & 89,26\\\\\n",
       "\t 1 & 20 & Stockholms län & Värmdö         & 27,49 & 9,76  & 6,4   & 5,89  & 20,48 & 6,02  & ⋯ &   &  & 0,01 & 0,04 & 0,67 & 0,07 &  28115 &  28335 &  31371 & 90,32\\\\\n",
       "\t 1 & 23 & Stockholms län & Järfälla       & 23,96 & 6,31  & 6,04  & 6,29  & 27,68 & 8,75  & ⋯ & 0 &  & 0,02 & 0,04 & 0,53 & 0,07 &  45654 &  45948 &  53230 & 86,32\\\\\n",
       "\t 1 & 25 & Stockholms län & Ekerö          & 28,12 & 11,24 & 7,64  & 7,85  & 17,17 & 4,76  & ⋯ &   &  & 0,01 & 0,01 & 0,64 & 0,08 &  17814 &  17946 &  19472 & 92,16\\\\\n",
       "\t 1 & 26 & Stockholms län & Huddinge       & 24,07 & 7,52  & 6,14  & 5,35  & 26,1  & 8,63  & ⋯ &   &  & 0,01 & 0,04 & 0,58 & 0,07 &  61440 &  61869 &  72839 & 84,94\\\\\n",
       "\t 1 & 27 & Stockholms län & Botkyrka       & 18,52 & 5,19  & 4,39  & 8,13  & 32,34 & 9,85  & ⋯ &   &  & 0,06 & 0,03 & 0,64 & 0,05 &  45393 &  45719 &  58436 & 78,24\\\\\n",
       "\t 1 & 28 & Stockholms län & Salem          & 24,84 & 7,61  & 7,58  & 7,98  & 23,07 & 5,98  & ⋯ &   &  &      & 0,04 & 0,75 & 0,02 &   9985 &  10066 &  11463 & 87,81\\\\\n",
       "\t 1 & 36 & Stockholms län & Haninge        & 22,94 & 6,06  & 5,11  & 5,36  & 27,29 & 7,99  & ⋯ & 0 &  & 0,01 & 0,05 & 0,79 & 0,05 &  50484 &  50940 &  59890 & 85,06\\\\\n",
       "\t 1 & 38 & Stockholms län & Tyresö         & 25,84 & 7,93  & 6,94  & 5,75  & 23,87 & 6,37  & ⋯ &   &  & 0    & 0,03 & 0,64 & 0,06 &  30260 &  30482 &  33776 & 90,25\\\\\n",
       "\t 1 & 39 & Stockholms län & Upplands-Bro   & 23,16 & 6,01  & 5,43  & 7,54  & 26,16 & 6,65  & ⋯ &   &  & 0,01 & 0,04 & 0,75 & 0,05 &  16366 &  16506 &  19023 & 86,77\\\\\n",
       "\t 1 & 40 & Stockholms län & Nykvarn        & 27,24 & 7,65  & 4,56  & 6,06  & 22,42 & 3,52  & ⋯ &   &  &      &      & 0,93 & 0,07 &   6847 &   6916 &   7623 & 90,73\\\\\n",
       "\t 1 & 60 & Stockholms län & Täby           & 35,97 & 10,98 & 10,71 & 8,31  & 13,99 & 3,2   & ⋯ &   &  & 0,01 & 0,01 & 0,44 & 0,04 &  46386 &  46616 &  51157 & 91,12\\\\\n",
       "\t 1 & 62 & Stockholms län & Danderyd       & 41,59 & 11,28 & 11,19 & 10,1  & 8,04  & 2,36  & ⋯ &   &  &      & 0,03 & 0,24 & 0,03 &  21897 &  21961 &  23891 & 91,92\\\\\n",
       "\t 1 & 63 & Stockholms län & Sollentuna     & 28,07 & 10,18 & 8,97  & 7,53  & 20,85 & 6,49  & ⋯ &   &  & 0,01 & 0,03 & 0,5  & 0,06 &  43676 &  43934 &  49597 & 88,58\\\\\n",
       "\t 1 & 80 & Stockholms län & Stockholm      & 21,88 & 9,07  & 7,85  & 4,87  & 23,76 & 13,12 & ⋯ &   &  & 0,01 & 0,04 & 0,49 & 0,06 & 611206 & 614860 & 704157 & 87,32\\\\\n",
       "\t 1 & 81 & Stockholms län & Södertälje     & 19,81 & 5,86  & 4,45  & 11,17 & 27,18 & 7,7   & ⋯ &   &  & 0    & 0,03 & 0,76 & 0,06 &  48273 &  48684 &  62783 & 77,54\\\\\n",
       "\t 1 & 82 & Stockholms län & Nacka          & 28,73 & 12,18 & 8,41  & 6,1   & 19,37 & 6,54  & ⋯ &   &  & 0    & 0,03 & 0,49 & 0,04 &  64101 &  64465 &  71629 & 90   \\\\\n",
       "\t 1 & 83 & Stockholms län & Sundbyberg     & 22,37 & 8,05  & 7,06  & 5,03  & 26,6  & 11,04 & ⋯ &   &  & 0,01 & 0,03 & 0,59 & 0,05 &  29807 &  30009 &  35047 & 85,63\\\\\n",
       "\t 1 & 84 & Stockholms län & Solna          & 23,71 & 9,03  & 8,12  & 5,8   & 24    & 9,89  & ⋯ &   &  & 0    & 0,03 & 0,46 & 0,06 &  50510 &  50788 &  58093 & 87,43\\\\\n",
       "\t 1 & 86 & Stockholms län & Lidingö        & 36,02 & 11,79 & 10,78 & 8,59  & 12,35 & 3,5   & ⋯ &   &  &      & 0,01 & 0,28 & 0,04 &  31032 &  31138 &  34536 & 90,16\\\\\n",
       "\t 1 & 87 & Stockholms län & Vaxholm        & 30,31 & 13,3  & 7,76  & 7,9   & 16,37 & 4,7   & ⋯ &   &  & 0,01 & 0,04 & 0,48 & 0,06 &   8106 &   8153 &   8791 & 92,74\\\\\n",
       "\t 1 & 88 & Stockholms län & Norrtälje      & 22,23 & 9,6   & 4,74  & 5,92  & 26,24 & 6,21  & ⋯ &   &  & 0    & 0,02 & 1,09 & 0,02 &  41174 &  41643 &  47811 & 87,1 \\\\\n",
       "\t 1 & 91 & Stockholms län & Sigtuna        & 24,66 & 6,65  & 4,93  & 7,56  & 25,49 & 6,39  & ⋯ &   &  & 0,02 & 0,04 & 0,68 & 0,04 &  25576 &  25772 &  31071 & 82,95\\\\\n",
       "\t 1 & 92 & Stockholms län & Nynäshamn      & 21,05 & 6,44  & 4,49  & 5,82  & 27,28 & 6,76  & ⋯ &   &  &      & 0,05 & 0,85 & 0,07 &  17642 &  17815 &  20606 & 86,46\\\\\n",
       "\t 3 &  5 & Uppsala län    & Håbo           & 26,56 & 7,1   & 5,35  & 6,51  & 21,13 & 5,2   & ⋯ &   &  & 0,01 & 0,01 & 0,92 & 0,07 &  13395 &  13530 &  15185 & 89,1 \\\\\n",
       "\t 3 & 19 & Uppsala län    & Älvkarleby     & 11,65 & 4,41  & 3,43  & 4,28  & 39,27 & 6,82  & ⋯ &   &  &      &      & 1,2  & 0,08 &   6009 &   6087 &   6955 & 87,52\\\\\n",
       "\t 3 & 30 & Uppsala län    & Knivsta        & 23,31 & 10,7  & 7,24  & 8,55  & 20,83 & 5,42  & ⋯ &   &  & 0,01 & 0,04 & 0,62 & 0,03 &  11276 &  11353 &  12429 & 91,34\\\\\n",
       "\t 3 & 31 & Uppsala län    & Heby           & 13,78 & 13,2  & 2,98  & 8,01  & 29,14 & 5,54  & ⋯ &   &  &      & 0,03 & 1,38 & 0,04 &   9064 &   9198 &  10607 & 86,72\\\\\n",
       "\t ⋮ & ⋮ & ⋮ & ⋮ & ⋮ & ⋮ & ⋮ & ⋮ & ⋮ & ⋮ & ⋱ & ⋮ & ⋮ & ⋮ & ⋮ & ⋮ & ⋮ & ⋮ & ⋮ & ⋮ & ⋮\\\\\n",
       "\t 23 & 80 & Jämtlands län     & Östersund   & 15,59 & 14,22 & 3,71 & 5,07 & 33,31 & 9,08  & ⋯ & 0 &      & 0    & 0,03 & 0,89 & 0,07 & 42176 & 42597 & 48471 & 87,88\\\\\n",
       "\t 24 &  1 & Västerbottens län & Nordmaling  & 12,95 & 13,57 & 3,26 & 5,86 & 35,91 & 9,15  & ⋯ &   &      & 0,02 & 0,02 & 0,87 & 0,09 &  4656 &  4702 &  5478 & 85,83\\\\\n",
       "\t 24 &  3 & Västerbottens län & Bjurholm    & 17,9  & 14,68 & 4,98 & 7,62 & 29,24 & 5,04  & ⋯ &   &      & 0,06 &      & 0,94 &      &  1587 &  1602 &  1886 & 84,94\\\\\n",
       "\t 24 &  4 & Västerbottens län & Vindeln     & 14,84 & 14,57 & 2,68 & 7,34 & 32,44 & 8,13  & ⋯ &   &      & 0,06 & 0,06 & 0,75 & 0,03 &  3431 &  3460 &  4073 & 84,95\\\\\n",
       "\t 24 &  9 & Västerbottens län & Robertsfors & 10,54 & 18,51 & 2,38 & 5,03 & 37,94 & 10,34 & ⋯ &   &      &      & 0,02 & 0,77 & 0,02 &  4489 &  4526 &  5195 & 87,12\\\\\n",
       "\t 24 & 17 & Västerbottens län & Norsjö      & 7,9   & 10,79 & 4,03 & 9,23 & 42,18 & 10,05 & ⋯ &   &      & 0,08 &      & 1,23 & 0,08 &  2558 &  2592 &  3092 & 83,83\\\\\n",
       "\t 24 & 18 & Västerbottens län & Malå        & 8,98  & 8,01  & 3,88 & 5,61 & 42,99 & 14,18 & ⋯ &   &      &      & 0,05 & 1,65 & 0,05 &  1961 &  1996 &  2347 & 85,04\\\\\n",
       "\t 24 & 21 & Västerbottens län & Storuman    & 12,08 & 10,95 & 3,47 & 7,87 & 34,39 & 10,87 & ⋯ &   &      &      & 0,03 & 1,48 &      &  3800 &  3858 &  4637 & 83,2 \\\\\n",
       "\t 24 & 22 & Västerbottens län & Sorsele     & 10,96 & 12,22 & 1,92 & 6,94 & 35,67 & 12,75 & ⋯ &   &      &      & 0,13 & 2,38 &      &  1514 &  1553 &  1922 & 80,8 \\\\\n",
       "\t 24 & 25 & Västerbottens län & Dorotea     & 6,16  & 14,88 & 3,6  & 4,88 & 43,78 & 10,64 & ⋯ &   &      &      & 0,06 & 1,94 & 0,06 &  1720 &  1756 &  2076 & 84,59\\\\\n",
       "\t 24 & 60 & Västerbottens län & Vännäs      & 12,72 & 13,05 & 2,81 & 6,02 & 34,62 & 13,13 & ⋯ &   &      &      & 0,04 & 0,51 & 0,07 &  5615 &  5650 &  6523 & 86,62\\\\\n",
       "\t 24 & 62 & Västerbottens län & Vilhelmina  & 7,47  & 14,24 & 1,81 & 7,29 & 37,29 & 10,79 & ⋯ &   &      &      &      & 1,06 & 0,11 &  4376 &  4428 &  5244 & 84,44\\\\\n",
       "\t 24 & 63 & Västerbottens län & Åsele       & 8,7   & 16,68 & 2,66 & 4,76 & 40,28 & 8,64  & ⋯ &   &      &      & 0,05 & 1,04 &      &  1805 &  1825 &  2138 & 85,36\\\\\n",
       "\t 24 & 80 & Västerbottens län & Umeå        & 15,36 & 9,51  & 4,7  & 4,48 & 34,53 & 15,66 & ⋯ &   &      & 0,01 & 0,03 & 0,58 & 0,04 & 84574 & 85125 & 95033 & 89,57\\\\\n",
       "\t 24 & 81 & Västerbottens län & Lycksele    & 14,41 & 7,31  & 3,81 & 9,67 & 38,94 & 9,45  & ⋯ &   &      &      & 0,03 & 0,95 & 0,1  &  7787 &  7872 &  9321 & 84,45\\\\\n",
       "\t 24 & 82 & Västerbottens län & Skellefteå  & 11,95 & 8,83  & 3,38 & 4,88 & 45,31 & 9,76  & ⋯ &   &      & 0    & 0,01 & 1    & 0,04 & 48964 & 49483 & 56313 & 87,87\\\\\n",
       "\t 25 &  5 & Norrbottens län   & Arvidsjaur  & 9,29  & 9,34  & 3,59 & 3,9  & 44,65 & 10,56 & ⋯ &   &      &      & 0,07 & 1,46 &      &  4175 &  4240 &  4963 & 85,43\\\\\n",
       "\t 25 &  6 & Norrbottens län   & Arjeplog    & 8,86  & 7,72  & 2,88 & 7,18 & 35,18 & 14,3  & ⋯ &   &      &      & 0,05 & 1,23 & 0,11 &  1839 &  1865 &  2219 & 84,05\\\\\n",
       "\t 25 & 10 & Norrbottens län   & Jokkmokk    & 8,33  & 5,2   & 2,66 & 3,87 & 40,3  & 14,59 & ⋯ &   &      &      & 0,03 & 1,04 &      &  3228 &  3263 &  3913 & 83,39\\\\\n",
       "\t 25 & 13 & Norrbottens län   & Överkalix   & 7,81  & 8,79  & 2,1  & 3,44 & 46,68 & 10,49 & ⋯ &   &      & 0,04 &      & 1,28 &      &  2241 &  2270 &  2667 & 85,11\\\\\n",
       "\t 25 & 14 & Norrbottens län   & Kalix       & 11,71 & 6,42  & 2,87 & 3,58 & 45,37 & 7,88  & ⋯ &   &      &      & 0,06 & 1,16 & 0,04 & 10971 & 11111 & 12765 & 87,04\\\\\n",
       "\t 25 & 18 & Norrbottens län   & Övertorneå  & 9,61  & 16,29 & 1,71 & 5,39 & 39,5  & 9,38  & ⋯ &   &      &      &      & 0,68 & 0,04 &  2633 &  2652 &  3273 & 81,03\\\\\n",
       "\t 25 & 21 & Norrbottens län   & Pajala      & 9,43  & 5,07  & 1,5  & 7,38 & 37,66 & 20,01 & ⋯ &   &      &      &      & 0,78 & 0,1  &  3808 &  3842 &  4720 & 81,4 \\\\\n",
       "\t 25 & 23 & Norrbottens län   & Gällivare   & 12,23 & 3,68  & 2,03 & 3,3  & 41,95 & 12,86 & ⋯ &   & 0,01 &      & 0,06 & 0,95 & 0,05 & 11464 & 11587 & 14081 & 82,29\\\\\n",
       "\t 25 & 60 & Norrbottens län   & Älvsbyn     & 8,56  & 9,03  & 3,02 & 4,64 & 44,82 & 10,74 & ⋯ &   &      &      & 0,02 & 0,64 & 0,09 &  5306 &  5346 &  6257 & 85,44\\\\\n",
       "\t 25 & 80 & Norrbottens län   & Luleå       & 15,38 & 7,53  & 4,37 & 4,78 & 38,97 & 10,47 & ⋯ &   &      & 0,01 & 0,03 & 0,69 & 0,04 & 53182 & 53589 & 60185 & 89,04\\\\\n",
       "\t 25 & 81 & Norrbottens län   & Piteå       & 11,82 & 7,49  & 2,52 & 4,8  & 47,48 & 10,56 & ⋯ &   &      & 0    & 0,03 & 0,61 & 0,02 & 29523 & 29719 & 33094 & 89,8 \\\\\n",
       "\t 25 & 82 & Norrbottens län   & Boden       & 14,32 & 6,23  & 3,61 & 4,61 & 41,76 & 8,1   & ⋯ &   &      & 0,02 & 0,03 & 0,84 & 0,07 & 19110 & 19291 & 21934 & 87,95\\\\\n",
       "\t 25 & 83 & Norrbottens län   & Haparanda   & 12,79 & 9,61  & 1,86 & 5,32 & 36,69 & 5,91  & ⋯ &   &      &      & 0,04 & 1,01 & 0,11 &  4402 &  4454 &  6120 & 72,78\\\\\n",
       "\t 25 & 84 & Norrbottens län   & Kiruna      & 10,71 & 5,38  & 2,51 & 4,91 & 38,23 & 13,46 & ⋯ &   & 0,05 & 0,02 & 0,16 & 1,09 & 0,05 & 14796 & 14991 & 17468 & 85,82\\\\\n",
       "\\end{tabular}\n"
      ],
      "text/markdown": [
       "\n",
       "A data.frame: 290 × 45\n",
       "\n",
       "| LÄNSKOD &lt;int&gt; | KOMMUNKOD &lt;int&gt; | LÄNSNAMN &lt;chr&gt; | KOMMUNNAMN &lt;chr&gt; | M &lt;chr&gt; | C &lt;chr&gt; | L &lt;chr&gt; | KD &lt;chr&gt; | S &lt;chr&gt; | V &lt;chr&gt; | ⋯ ⋯ | TRP &lt;chr&gt; | VL.S &lt;chr&gt; | ÖVR &lt;chr&gt; | OGEJ &lt;chr&gt; | BLANK &lt;chr&gt; | OG &lt;chr&gt; | RÖSTER.GILTIGA &lt;int&gt; | RÖSTANDE &lt;int&gt; | RÖSTBERÄTTIGADE &lt;int&gt; | VALDELTAGANDE &lt;chr&gt; |\n",
       "|---|---|---|---|---|---|---|---|---|---|---|---|---|---|---|---|---|---|---|---|---|\n",
       "| 1 | 14 | Stockholms län | Upplands Väsby | 23,11 | 6,26  | 5,66  | 6,71  | 26,97 | 8,01  | ⋯ | <!----> | <!----> | <!----> | 0,04 | 0,69 | 0,06 |  25830 |  26036 |  30740 | 84,7  |\n",
       "| 1 | 15 | Stockholms län | Vallentuna     | 28,29 | 10,11 | 7,73  | 7,58  | 18,91 | 4,47  | ⋯ | 0 | <!----> | 0    | 0,02 | 0,59 | 0,08 |  20952 |  21099 |  23438 | 90,02 |\n",
       "| 1 | 17 | Stockholms län | Österåker      | 29,68 | 9,35  | 7,48  | 7,13  | 19,71 | 4,97  | ⋯ | <!----> | <!----> | 0,01 | 0,03 | 0,69 | 0,13 |  27711 |  27947 |  31309 | 89,26 |\n",
       "| 1 | 20 | Stockholms län | Värmdö         | 27,49 | 9,76  | 6,4   | 5,89  | 20,48 | 6,02  | ⋯ | <!----> | <!----> | 0,01 | 0,04 | 0,67 | 0,07 |  28115 |  28335 |  31371 | 90,32 |\n",
       "| 1 | 23 | Stockholms län | Järfälla       | 23,96 | 6,31  | 6,04  | 6,29  | 27,68 | 8,75  | ⋯ | 0 | <!----> | 0,02 | 0,04 | 0,53 | 0,07 |  45654 |  45948 |  53230 | 86,32 |\n",
       "| 1 | 25 | Stockholms län | Ekerö          | 28,12 | 11,24 | 7,64  | 7,85  | 17,17 | 4,76  | ⋯ | <!----> | <!----> | 0,01 | 0,01 | 0,64 | 0,08 |  17814 |  17946 |  19472 | 92,16 |\n",
       "| 1 | 26 | Stockholms län | Huddinge       | 24,07 | 7,52  | 6,14  | 5,35  | 26,1  | 8,63  | ⋯ | <!----> | <!----> | 0,01 | 0,04 | 0,58 | 0,07 |  61440 |  61869 |  72839 | 84,94 |\n",
       "| 1 | 27 | Stockholms län | Botkyrka       | 18,52 | 5,19  | 4,39  | 8,13  | 32,34 | 9,85  | ⋯ | <!----> | <!----> | 0,06 | 0,03 | 0,64 | 0,05 |  45393 |  45719 |  58436 | 78,24 |\n",
       "| 1 | 28 | Stockholms län | Salem          | 24,84 | 7,61  | 7,58  | 7,98  | 23,07 | 5,98  | ⋯ | <!----> | <!----> | <!----> | 0,04 | 0,75 | 0,02 |   9985 |  10066 |  11463 | 87,81 |\n",
       "| 1 | 36 | Stockholms län | Haninge        | 22,94 | 6,06  | 5,11  | 5,36  | 27,29 | 7,99  | ⋯ | 0 | <!----> | 0,01 | 0,05 | 0,79 | 0,05 |  50484 |  50940 |  59890 | 85,06 |\n",
       "| 1 | 38 | Stockholms län | Tyresö         | 25,84 | 7,93  | 6,94  | 5,75  | 23,87 | 6,37  | ⋯ | <!----> | <!----> | 0    | 0,03 | 0,64 | 0,06 |  30260 |  30482 |  33776 | 90,25 |\n",
       "| 1 | 39 | Stockholms län | Upplands-Bro   | 23,16 | 6,01  | 5,43  | 7,54  | 26,16 | 6,65  | ⋯ | <!----> | <!----> | 0,01 | 0,04 | 0,75 | 0,05 |  16366 |  16506 |  19023 | 86,77 |\n",
       "| 1 | 40 | Stockholms län | Nykvarn        | 27,24 | 7,65  | 4,56  | 6,06  | 22,42 | 3,52  | ⋯ | <!----> | <!----> | <!----> | <!----> | 0,93 | 0,07 |   6847 |   6916 |   7623 | 90,73 |\n",
       "| 1 | 60 | Stockholms län | Täby           | 35,97 | 10,98 | 10,71 | 8,31  | 13,99 | 3,2   | ⋯ | <!----> | <!----> | 0,01 | 0,01 | 0,44 | 0,04 |  46386 |  46616 |  51157 | 91,12 |\n",
       "| 1 | 62 | Stockholms län | Danderyd       | 41,59 | 11,28 | 11,19 | 10,1  | 8,04  | 2,36  | ⋯ | <!----> | <!----> | <!----> | 0,03 | 0,24 | 0,03 |  21897 |  21961 |  23891 | 91,92 |\n",
       "| 1 | 63 | Stockholms län | Sollentuna     | 28,07 | 10,18 | 8,97  | 7,53  | 20,85 | 6,49  | ⋯ | <!----> | <!----> | 0,01 | 0,03 | 0,5  | 0,06 |  43676 |  43934 |  49597 | 88,58 |\n",
       "| 1 | 80 | Stockholms län | Stockholm      | 21,88 | 9,07  | 7,85  | 4,87  | 23,76 | 13,12 | ⋯ | <!----> | <!----> | 0,01 | 0,04 | 0,49 | 0,06 | 611206 | 614860 | 704157 | 87,32 |\n",
       "| 1 | 81 | Stockholms län | Södertälje     | 19,81 | 5,86  | 4,45  | 11,17 | 27,18 | 7,7   | ⋯ | <!----> | <!----> | 0    | 0,03 | 0,76 | 0,06 |  48273 |  48684 |  62783 | 77,54 |\n",
       "| 1 | 82 | Stockholms län | Nacka          | 28,73 | 12,18 | 8,41  | 6,1   | 19,37 | 6,54  | ⋯ | <!----> | <!----> | 0    | 0,03 | 0,49 | 0,04 |  64101 |  64465 |  71629 | 90    |\n",
       "| 1 | 83 | Stockholms län | Sundbyberg     | 22,37 | 8,05  | 7,06  | 5,03  | 26,6  | 11,04 | ⋯ | <!----> | <!----> | 0,01 | 0,03 | 0,59 | 0,05 |  29807 |  30009 |  35047 | 85,63 |\n",
       "| 1 | 84 | Stockholms län | Solna          | 23,71 | 9,03  | 8,12  | 5,8   | 24    | 9,89  | ⋯ | <!----> | <!----> | 0    | 0,03 | 0,46 | 0,06 |  50510 |  50788 |  58093 | 87,43 |\n",
       "| 1 | 86 | Stockholms län | Lidingö        | 36,02 | 11,79 | 10,78 | 8,59  | 12,35 | 3,5   | ⋯ | <!----> | <!----> | <!----> | 0,01 | 0,28 | 0,04 |  31032 |  31138 |  34536 | 90,16 |\n",
       "| 1 | 87 | Stockholms län | Vaxholm        | 30,31 | 13,3  | 7,76  | 7,9   | 16,37 | 4,7   | ⋯ | <!----> | <!----> | 0,01 | 0,04 | 0,48 | 0,06 |   8106 |   8153 |   8791 | 92,74 |\n",
       "| 1 | 88 | Stockholms län | Norrtälje      | 22,23 | 9,6   | 4,74  | 5,92  | 26,24 | 6,21  | ⋯ | <!----> | <!----> | 0    | 0,02 | 1,09 | 0,02 |  41174 |  41643 |  47811 | 87,1  |\n",
       "| 1 | 91 | Stockholms län | Sigtuna        | 24,66 | 6,65  | 4,93  | 7,56  | 25,49 | 6,39  | ⋯ | <!----> | <!----> | 0,02 | 0,04 | 0,68 | 0,04 |  25576 |  25772 |  31071 | 82,95 |\n",
       "| 1 | 92 | Stockholms län | Nynäshamn      | 21,05 | 6,44  | 4,49  | 5,82  | 27,28 | 6,76  | ⋯ | <!----> | <!----> | <!----> | 0,05 | 0,85 | 0,07 |  17642 |  17815 |  20606 | 86,46 |\n",
       "| 3 |  5 | Uppsala län    | Håbo           | 26,56 | 7,1   | 5,35  | 6,51  | 21,13 | 5,2   | ⋯ | <!----> | <!----> | 0,01 | 0,01 | 0,92 | 0,07 |  13395 |  13530 |  15185 | 89,1  |\n",
       "| 3 | 19 | Uppsala län    | Älvkarleby     | 11,65 | 4,41  | 3,43  | 4,28  | 39,27 | 6,82  | ⋯ | <!----> | <!----> | <!----> | <!----> | 1,2  | 0,08 |   6009 |   6087 |   6955 | 87,52 |\n",
       "| 3 | 30 | Uppsala län    | Knivsta        | 23,31 | 10,7  | 7,24  | 8,55  | 20,83 | 5,42  | ⋯ | <!----> | <!----> | 0,01 | 0,04 | 0,62 | 0,03 |  11276 |  11353 |  12429 | 91,34 |\n",
       "| 3 | 31 | Uppsala län    | Heby           | 13,78 | 13,2  | 2,98  | 8,01  | 29,14 | 5,54  | ⋯ | <!----> | <!----> | <!----> | 0,03 | 1,38 | 0,04 |   9064 |   9198 |  10607 | 86,72 |\n",
       "| ⋮ | ⋮ | ⋮ | ⋮ | ⋮ | ⋮ | ⋮ | ⋮ | ⋮ | ⋮ | ⋱ | ⋮ | ⋮ | ⋮ | ⋮ | ⋮ | ⋮ | ⋮ | ⋮ | ⋮ | ⋮ |\n",
       "| 23 | 80 | Jämtlands län     | Östersund   | 15,59 | 14,22 | 3,71 | 5,07 | 33,31 | 9,08  | ⋯ | 0 | <!----> | 0    | 0,03 | 0,89 | 0,07 | 42176 | 42597 | 48471 | 87,88 |\n",
       "| 24 |  1 | Västerbottens län | Nordmaling  | 12,95 | 13,57 | 3,26 | 5,86 | 35,91 | 9,15  | ⋯ | <!----> | <!----> | 0,02 | 0,02 | 0,87 | 0,09 |  4656 |  4702 |  5478 | 85,83 |\n",
       "| 24 |  3 | Västerbottens län | Bjurholm    | 17,9  | 14,68 | 4,98 | 7,62 | 29,24 | 5,04  | ⋯ | <!----> | <!----> | 0,06 | <!----> | 0,94 | <!----> |  1587 |  1602 |  1886 | 84,94 |\n",
       "| 24 |  4 | Västerbottens län | Vindeln     | 14,84 | 14,57 | 2,68 | 7,34 | 32,44 | 8,13  | ⋯ | <!----> | <!----> | 0,06 | 0,06 | 0,75 | 0,03 |  3431 |  3460 |  4073 | 84,95 |\n",
       "| 24 |  9 | Västerbottens län | Robertsfors | 10,54 | 18,51 | 2,38 | 5,03 | 37,94 | 10,34 | ⋯ | <!----> | <!----> | <!----> | 0,02 | 0,77 | 0,02 |  4489 |  4526 |  5195 | 87,12 |\n",
       "| 24 | 17 | Västerbottens län | Norsjö      | 7,9   | 10,79 | 4,03 | 9,23 | 42,18 | 10,05 | ⋯ | <!----> | <!----> | 0,08 | <!----> | 1,23 | 0,08 |  2558 |  2592 |  3092 | 83,83 |\n",
       "| 24 | 18 | Västerbottens län | Malå        | 8,98  | 8,01  | 3,88 | 5,61 | 42,99 | 14,18 | ⋯ | <!----> | <!----> | <!----> | 0,05 | 1,65 | 0,05 |  1961 |  1996 |  2347 | 85,04 |\n",
       "| 24 | 21 | Västerbottens län | Storuman    | 12,08 | 10,95 | 3,47 | 7,87 | 34,39 | 10,87 | ⋯ | <!----> | <!----> | <!----> | 0,03 | 1,48 | <!----> |  3800 |  3858 |  4637 | 83,2  |\n",
       "| 24 | 22 | Västerbottens län | Sorsele     | 10,96 | 12,22 | 1,92 | 6,94 | 35,67 | 12,75 | ⋯ | <!----> | <!----> | <!----> | 0,13 | 2,38 | <!----> |  1514 |  1553 |  1922 | 80,8  |\n",
       "| 24 | 25 | Västerbottens län | Dorotea     | 6,16  | 14,88 | 3,6  | 4,88 | 43,78 | 10,64 | ⋯ | <!----> | <!----> | <!----> | 0,06 | 1,94 | 0,06 |  1720 |  1756 |  2076 | 84,59 |\n",
       "| 24 | 60 | Västerbottens län | Vännäs      | 12,72 | 13,05 | 2,81 | 6,02 | 34,62 | 13,13 | ⋯ | <!----> | <!----> | <!----> | 0,04 | 0,51 | 0,07 |  5615 |  5650 |  6523 | 86,62 |\n",
       "| 24 | 62 | Västerbottens län | Vilhelmina  | 7,47  | 14,24 | 1,81 | 7,29 | 37,29 | 10,79 | ⋯ | <!----> | <!----> | <!----> | <!----> | 1,06 | 0,11 |  4376 |  4428 |  5244 | 84,44 |\n",
       "| 24 | 63 | Västerbottens län | Åsele       | 8,7   | 16,68 | 2,66 | 4,76 | 40,28 | 8,64  | ⋯ | <!----> | <!----> | <!----> | 0,05 | 1,04 | <!----> |  1805 |  1825 |  2138 | 85,36 |\n",
       "| 24 | 80 | Västerbottens län | Umeå        | 15,36 | 9,51  | 4,7  | 4,48 | 34,53 | 15,66 | ⋯ | <!----> | <!----> | 0,01 | 0,03 | 0,58 | 0,04 | 84574 | 85125 | 95033 | 89,57 |\n",
       "| 24 | 81 | Västerbottens län | Lycksele    | 14,41 | 7,31  | 3,81 | 9,67 | 38,94 | 9,45  | ⋯ | <!----> | <!----> | <!----> | 0,03 | 0,95 | 0,1  |  7787 |  7872 |  9321 | 84,45 |\n",
       "| 24 | 82 | Västerbottens län | Skellefteå  | 11,95 | 8,83  | 3,38 | 4,88 | 45,31 | 9,76  | ⋯ | <!----> | <!----> | 0    | 0,01 | 1    | 0,04 | 48964 | 49483 | 56313 | 87,87 |\n",
       "| 25 |  5 | Norrbottens län   | Arvidsjaur  | 9,29  | 9,34  | 3,59 | 3,9  | 44,65 | 10,56 | ⋯ | <!----> | <!----> | <!----> | 0,07 | 1,46 | <!----> |  4175 |  4240 |  4963 | 85,43 |\n",
       "| 25 |  6 | Norrbottens län   | Arjeplog    | 8,86  | 7,72  | 2,88 | 7,18 | 35,18 | 14,3  | ⋯ | <!----> | <!----> | <!----> | 0,05 | 1,23 | 0,11 |  1839 |  1865 |  2219 | 84,05 |\n",
       "| 25 | 10 | Norrbottens län   | Jokkmokk    | 8,33  | 5,2   | 2,66 | 3,87 | 40,3  | 14,59 | ⋯ | <!----> | <!----> | <!----> | 0,03 | 1,04 | <!----> |  3228 |  3263 |  3913 | 83,39 |\n",
       "| 25 | 13 | Norrbottens län   | Överkalix   | 7,81  | 8,79  | 2,1  | 3,44 | 46,68 | 10,49 | ⋯ | <!----> | <!----> | 0,04 | <!----> | 1,28 | <!----> |  2241 |  2270 |  2667 | 85,11 |\n",
       "| 25 | 14 | Norrbottens län   | Kalix       | 11,71 | 6,42  | 2,87 | 3,58 | 45,37 | 7,88  | ⋯ | <!----> | <!----> | <!----> | 0,06 | 1,16 | 0,04 | 10971 | 11111 | 12765 | 87,04 |\n",
       "| 25 | 18 | Norrbottens län   | Övertorneå  | 9,61  | 16,29 | 1,71 | 5,39 | 39,5  | 9,38  | ⋯ | <!----> | <!----> | <!----> | <!----> | 0,68 | 0,04 |  2633 |  2652 |  3273 | 81,03 |\n",
       "| 25 | 21 | Norrbottens län   | Pajala      | 9,43  | 5,07  | 1,5  | 7,38 | 37,66 | 20,01 | ⋯ | <!----> | <!----> | <!----> | <!----> | 0,78 | 0,1  |  3808 |  3842 |  4720 | 81,4  |\n",
       "| 25 | 23 | Norrbottens län   | Gällivare   | 12,23 | 3,68  | 2,03 | 3,3  | 41,95 | 12,86 | ⋯ | <!----> | 0,01 | <!----> | 0,06 | 0,95 | 0,05 | 11464 | 11587 | 14081 | 82,29 |\n",
       "| 25 | 60 | Norrbottens län   | Älvsbyn     | 8,56  | 9,03  | 3,02 | 4,64 | 44,82 | 10,74 | ⋯ | <!----> | <!----> | <!----> | 0,02 | 0,64 | 0,09 |  5306 |  5346 |  6257 | 85,44 |\n",
       "| 25 | 80 | Norrbottens län   | Luleå       | 15,38 | 7,53  | 4,37 | 4,78 | 38,97 | 10,47 | ⋯ | <!----> | <!----> | 0,01 | 0,03 | 0,69 | 0,04 | 53182 | 53589 | 60185 | 89,04 |\n",
       "| 25 | 81 | Norrbottens län   | Piteå       | 11,82 | 7,49  | 2,52 | 4,8  | 47,48 | 10,56 | ⋯ | <!----> | <!----> | 0    | 0,03 | 0,61 | 0,02 | 29523 | 29719 | 33094 | 89,8  |\n",
       "| 25 | 82 | Norrbottens län   | Boden       | 14,32 | 6,23  | 3,61 | 4,61 | 41,76 | 8,1   | ⋯ | <!----> | <!----> | 0,02 | 0,03 | 0,84 | 0,07 | 19110 | 19291 | 21934 | 87,95 |\n",
       "| 25 | 83 | Norrbottens län   | Haparanda   | 12,79 | 9,61  | 1,86 | 5,32 | 36,69 | 5,91  | ⋯ | <!----> | <!----> | <!----> | 0,04 | 1,01 | 0,11 |  4402 |  4454 |  6120 | 72,78 |\n",
       "| 25 | 84 | Norrbottens län   | Kiruna      | 10,71 | 5,38  | 2,51 | 4,91 | 38,23 | 13,46 | ⋯ | <!----> | 0,05 | 0,02 | 0,16 | 1,09 | 0,05 | 14796 | 14991 | 17468 | 85,82 |\n",
       "\n"
      ],
      "text/plain": [
       "    LÄNSKOD KOMMUNKOD LÄNSNAMN          KOMMUNNAMN     M     C     L     KD   \n",
       "1   1       14        Stockholms län    Upplands Väsby 23,11 6,26  5,66  6,71 \n",
       "2   1       15        Stockholms län    Vallentuna     28,29 10,11 7,73  7,58 \n",
       "3   1       17        Stockholms län    Österåker      29,68 9,35  7,48  7,13 \n",
       "4   1       20        Stockholms län    Värmdö         27,49 9,76  6,4   5,89 \n",
       "5   1       23        Stockholms län    Järfälla       23,96 6,31  6,04  6,29 \n",
       "6   1       25        Stockholms län    Ekerö          28,12 11,24 7,64  7,85 \n",
       "7   1       26        Stockholms län    Huddinge       24,07 7,52  6,14  5,35 \n",
       "8   1       27        Stockholms län    Botkyrka       18,52 5,19  4,39  8,13 \n",
       "9   1       28        Stockholms län    Salem          24,84 7,61  7,58  7,98 \n",
       "10  1       36        Stockholms län    Haninge        22,94 6,06  5,11  5,36 \n",
       "11  1       38        Stockholms län    Tyresö         25,84 7,93  6,94  5,75 \n",
       "12  1       39        Stockholms län    Upplands-Bro   23,16 6,01  5,43  7,54 \n",
       "13  1       40        Stockholms län    Nykvarn        27,24 7,65  4,56  6,06 \n",
       "14  1       60        Stockholms län    Täby           35,97 10,98 10,71 8,31 \n",
       "15  1       62        Stockholms län    Danderyd       41,59 11,28 11,19 10,1 \n",
       "16  1       63        Stockholms län    Sollentuna     28,07 10,18 8,97  7,53 \n",
       "17  1       80        Stockholms län    Stockholm      21,88 9,07  7,85  4,87 \n",
       "18  1       81        Stockholms län    Södertälje     19,81 5,86  4,45  11,17\n",
       "19  1       82        Stockholms län    Nacka          28,73 12,18 8,41  6,1  \n",
       "20  1       83        Stockholms län    Sundbyberg     22,37 8,05  7,06  5,03 \n",
       "21  1       84        Stockholms län    Solna          23,71 9,03  8,12  5,8  \n",
       "22  1       86        Stockholms län    Lidingö        36,02 11,79 10,78 8,59 \n",
       "23  1       87        Stockholms län    Vaxholm        30,31 13,3  7,76  7,9  \n",
       "24  1       88        Stockholms län    Norrtälje      22,23 9,6   4,74  5,92 \n",
       "25  1       91        Stockholms län    Sigtuna        24,66 6,65  4,93  7,56 \n",
       "26  1       92        Stockholms län    Nynäshamn      21,05 6,44  4,49  5,82 \n",
       "27  3        5        Uppsala län       Håbo           26,56 7,1   5,35  6,51 \n",
       "28  3       19        Uppsala län       Älvkarleby     11,65 4,41  3,43  4,28 \n",
       "29  3       30        Uppsala län       Knivsta        23,31 10,7  7,24  8,55 \n",
       "30  3       31        Uppsala län       Heby           13,78 13,2  2,98  8,01 \n",
       "⋮   ⋮       ⋮         ⋮                 ⋮              ⋮     ⋮     ⋮     ⋮    \n",
       "261 23      80        Jämtlands län     Östersund      15,59 14,22 3,71  5,07 \n",
       "262 24       1        Västerbottens län Nordmaling     12,95 13,57 3,26  5,86 \n",
       "263 24       3        Västerbottens län Bjurholm       17,9  14,68 4,98  7,62 \n",
       "264 24       4        Västerbottens län Vindeln        14,84 14,57 2,68  7,34 \n",
       "265 24       9        Västerbottens län Robertsfors    10,54 18,51 2,38  5,03 \n",
       "266 24      17        Västerbottens län Norsjö         7,9   10,79 4,03  9,23 \n",
       "267 24      18        Västerbottens län Malå           8,98  8,01  3,88  5,61 \n",
       "268 24      21        Västerbottens län Storuman       12,08 10,95 3,47  7,87 \n",
       "269 24      22        Västerbottens län Sorsele        10,96 12,22 1,92  6,94 \n",
       "270 24      25        Västerbottens län Dorotea        6,16  14,88 3,6   4,88 \n",
       "271 24      60        Västerbottens län Vännäs         12,72 13,05 2,81  6,02 \n",
       "272 24      62        Västerbottens län Vilhelmina     7,47  14,24 1,81  7,29 \n",
       "273 24      63        Västerbottens län Åsele          8,7   16,68 2,66  4,76 \n",
       "274 24      80        Västerbottens län Umeå           15,36 9,51  4,7   4,48 \n",
       "275 24      81        Västerbottens län Lycksele       14,41 7,31  3,81  9,67 \n",
       "276 24      82        Västerbottens län Skellefteå     11,95 8,83  3,38  4,88 \n",
       "277 25       5        Norrbottens län   Arvidsjaur     9,29  9,34  3,59  3,9  \n",
       "278 25       6        Norrbottens län   Arjeplog       8,86  7,72  2,88  7,18 \n",
       "279 25      10        Norrbottens län   Jokkmokk       8,33  5,2   2,66  3,87 \n",
       "280 25      13        Norrbottens län   Överkalix      7,81  8,79  2,1   3,44 \n",
       "281 25      14        Norrbottens län   Kalix          11,71 6,42  2,87  3,58 \n",
       "282 25      18        Norrbottens län   Övertorneå     9,61  16,29 1,71  5,39 \n",
       "283 25      21        Norrbottens län   Pajala         9,43  5,07  1,5   7,38 \n",
       "284 25      23        Norrbottens län   Gällivare      12,23 3,68  2,03  3,3  \n",
       "285 25      60        Norrbottens län   Älvsbyn        8,56  9,03  3,02  4,64 \n",
       "286 25      80        Norrbottens län   Luleå          15,38 7,53  4,37  4,78 \n",
       "287 25      81        Norrbottens län   Piteå          11,82 7,49  2,52  4,8  \n",
       "288 25      82        Norrbottens län   Boden          14,32 6,23  3,61  4,61 \n",
       "289 25      83        Norrbottens län   Haparanda      12,79 9,61  1,86  5,32 \n",
       "290 25      84        Norrbottens län   Kiruna         10,71 5,38  2,51  4,91 \n",
       "    S     V     ⋯ TRP VL.S ÖVR  OGEJ BLANK OG   RÖSTER.GILTIGA RÖSTANDE\n",
       "1   26,97 8,01  ⋯               0,04 0,69  0,06  25830          26036  \n",
       "2   18,91 4,47  ⋯ 0        0    0,02 0,59  0,08  20952          21099  \n",
       "3   19,71 4,97  ⋯          0,01 0,03 0,69  0,13  27711          27947  \n",
       "4   20,48 6,02  ⋯          0,01 0,04 0,67  0,07  28115          28335  \n",
       "5   27,68 8,75  ⋯ 0        0,02 0,04 0,53  0,07  45654          45948  \n",
       "6   17,17 4,76  ⋯          0,01 0,01 0,64  0,08  17814          17946  \n",
       "7   26,1  8,63  ⋯          0,01 0,04 0,58  0,07  61440          61869  \n",
       "8   32,34 9,85  ⋯          0,06 0,03 0,64  0,05  45393          45719  \n",
       "9   23,07 5,98  ⋯               0,04 0,75  0,02   9985          10066  \n",
       "10  27,29 7,99  ⋯ 0        0,01 0,05 0,79  0,05  50484          50940  \n",
       "11  23,87 6,37  ⋯          0    0,03 0,64  0,06  30260          30482  \n",
       "12  26,16 6,65  ⋯          0,01 0,04 0,75  0,05  16366          16506  \n",
       "13  22,42 3,52  ⋯                    0,93  0,07   6847           6916  \n",
       "14  13,99 3,2   ⋯          0,01 0,01 0,44  0,04  46386          46616  \n",
       "15  8,04  2,36  ⋯               0,03 0,24  0,03  21897          21961  \n",
       "16  20,85 6,49  ⋯          0,01 0,03 0,5   0,06  43676          43934  \n",
       "17  23,76 13,12 ⋯          0,01 0,04 0,49  0,06 611206         614860  \n",
       "18  27,18 7,7   ⋯          0    0,03 0,76  0,06  48273          48684  \n",
       "19  19,37 6,54  ⋯          0    0,03 0,49  0,04  64101          64465  \n",
       "20  26,6  11,04 ⋯          0,01 0,03 0,59  0,05  29807          30009  \n",
       "21  24    9,89  ⋯          0    0,03 0,46  0,06  50510          50788  \n",
       "22  12,35 3,5   ⋯               0,01 0,28  0,04  31032          31138  \n",
       "23  16,37 4,7   ⋯          0,01 0,04 0,48  0,06   8106           8153  \n",
       "24  26,24 6,21  ⋯          0    0,02 1,09  0,02  41174          41643  \n",
       "25  25,49 6,39  ⋯          0,02 0,04 0,68  0,04  25576          25772  \n",
       "26  27,28 6,76  ⋯               0,05 0,85  0,07  17642          17815  \n",
       "27  21,13 5,2   ⋯          0,01 0,01 0,92  0,07  13395          13530  \n",
       "28  39,27 6,82  ⋯                    1,2   0,08   6009           6087  \n",
       "29  20,83 5,42  ⋯          0,01 0,04 0,62  0,03  11276          11353  \n",
       "30  29,14 5,54  ⋯               0,03 1,38  0,04   9064           9198  \n",
       "⋮   ⋮     ⋮     ⋱ ⋮   ⋮    ⋮    ⋮    ⋮     ⋮    ⋮              ⋮       \n",
       "261 33,31 9,08  ⋯ 0        0    0,03 0,89  0,07 42176          42597   \n",
       "262 35,91 9,15  ⋯          0,02 0,02 0,87  0,09  4656           4702   \n",
       "263 29,24 5,04  ⋯          0,06      0,94        1587           1602   \n",
       "264 32,44 8,13  ⋯          0,06 0,06 0,75  0,03  3431           3460   \n",
       "265 37,94 10,34 ⋯               0,02 0,77  0,02  4489           4526   \n",
       "266 42,18 10,05 ⋯          0,08      1,23  0,08  2558           2592   \n",
       "267 42,99 14,18 ⋯               0,05 1,65  0,05  1961           1996   \n",
       "268 34,39 10,87 ⋯               0,03 1,48        3800           3858   \n",
       "269 35,67 12,75 ⋯               0,13 2,38        1514           1553   \n",
       "270 43,78 10,64 ⋯               0,06 1,94  0,06  1720           1756   \n",
       "271 34,62 13,13 ⋯               0,04 0,51  0,07  5615           5650   \n",
       "272 37,29 10,79 ⋯                    1,06  0,11  4376           4428   \n",
       "273 40,28 8,64  ⋯               0,05 1,04        1805           1825   \n",
       "274 34,53 15,66 ⋯          0,01 0,03 0,58  0,04 84574          85125   \n",
       "275 38,94 9,45  ⋯               0,03 0,95  0,1   7787           7872   \n",
       "276 45,31 9,76  ⋯          0    0,01 1     0,04 48964          49483   \n",
       "277 44,65 10,56 ⋯               0,07 1,46        4175           4240   \n",
       "278 35,18 14,3  ⋯               0,05 1,23  0,11  1839           1865   \n",
       "279 40,3  14,59 ⋯               0,03 1,04        3228           3263   \n",
       "280 46,68 10,49 ⋯          0,04      1,28        2241           2270   \n",
       "281 45,37 7,88  ⋯               0,06 1,16  0,04 10971          11111   \n",
       "282 39,5  9,38  ⋯                    0,68  0,04  2633           2652   \n",
       "283 37,66 20,01 ⋯                    0,78  0,1   3808           3842   \n",
       "284 41,95 12,86 ⋯     0,01      0,06 0,95  0,05 11464          11587   \n",
       "285 44,82 10,74 ⋯               0,02 0,64  0,09  5306           5346   \n",
       "286 38,97 10,47 ⋯          0,01 0,03 0,69  0,04 53182          53589   \n",
       "287 47,48 10,56 ⋯          0    0,03 0,61  0,02 29523          29719   \n",
       "288 41,76 8,1   ⋯          0,02 0,03 0,84  0,07 19110          19291   \n",
       "289 36,69 5,91  ⋯               0,04 1,01  0,11  4402           4454   \n",
       "290 38,23 13,46 ⋯     0,05 0,02 0,16 1,09  0,05 14796          14991   \n",
       "    RÖSTBERÄTTIGADE VALDELTAGANDE\n",
       "1    30740          84,7         \n",
       "2    23438          90,02        \n",
       "3    31309          89,26        \n",
       "4    31371          90,32        \n",
       "5    53230          86,32        \n",
       "6    19472          92,16        \n",
       "7    72839          84,94        \n",
       "8    58436          78,24        \n",
       "9    11463          87,81        \n",
       "10   59890          85,06        \n",
       "11   33776          90,25        \n",
       "12   19023          86,77        \n",
       "13    7623          90,73        \n",
       "14   51157          91,12        \n",
       "15   23891          91,92        \n",
       "16   49597          88,58        \n",
       "17  704157          87,32        \n",
       "18   62783          77,54        \n",
       "19   71629          90           \n",
       "20   35047          85,63        \n",
       "21   58093          87,43        \n",
       "22   34536          90,16        \n",
       "23    8791          92,74        \n",
       "24   47811          87,1         \n",
       "25   31071          82,95        \n",
       "26   20606          86,46        \n",
       "27   15185          89,1         \n",
       "28    6955          87,52        \n",
       "29   12429          91,34        \n",
       "30   10607          86,72        \n",
       "⋮   ⋮               ⋮            \n",
       "261 48471           87,88        \n",
       "262  5478           85,83        \n",
       "263  1886           84,94        \n",
       "264  4073           84,95        \n",
       "265  5195           87,12        \n",
       "266  3092           83,83        \n",
       "267  2347           85,04        \n",
       "268  4637           83,2         \n",
       "269  1922           80,8         \n",
       "270  2076           84,59        \n",
       "271  6523           86,62        \n",
       "272  5244           84,44        \n",
       "273  2138           85,36        \n",
       "274 95033           89,57        \n",
       "275  9321           84,45        \n",
       "276 56313           87,87        \n",
       "277  4963           85,43        \n",
       "278  2219           84,05        \n",
       "279  3913           83,39        \n",
       "280  2667           85,11        \n",
       "281 12765           87,04        \n",
       "282  3273           81,03        \n",
       "283  4720           81,4         \n",
       "284 14081           82,29        \n",
       "285  6257           85,44        \n",
       "286 60185           89,04        \n",
       "287 33094           89,8         \n",
       "288 21934           87,95        \n",
       "289  6120           72,78        \n",
       "290 17468           85,82        "
      ]
     },
     "metadata": {},
     "output_type": "display_data"
    }
   ],
   "source": [
    "election_data <- read.csv(\"2018_R_per_kommun.csv\", sep = \";\")\n",
    "election_data"
   ]
  },
  {
   "cell_type": "markdown",
   "id": "53524e61-2304-45ac-8f5b-50ac82bcc674",
   "metadata": {},
   "source": [
    "We will first calculate the amount of legitimate votes in Stockholm"
   ]
  },
  {
   "cell_type": "code",
   "execution_count": 64,
   "id": "c9d788f0-5087-4f7b-8171-bd6f2ac206b4",
   "metadata": {},
   "outputs": [
    {
     "name": "stdout",
     "output_type": "stream",
     "text": [
      "[1] \"There were 1426237 legitimate votes in Stockholm in the election of 2018\"\n"
     ]
    }
   ],
   "source": [
    "stockholm_data <- election_data[election_data$LÄNSKOD == 1,]\n",
    "total_legitimate_votes <- sum(stockholm_data$RÖSTER.GILTIGA)\n",
    "print(paste(\"There were\",total_legitimate_votes,\"legitimate votes in Stockholm in the election of 2018\"))"
   ]
  },
  {
   "cell_type": "markdown",
   "id": "fc810f34-5e85-49ac-805c-49028c66ad3e",
   "metadata": {},
   "source": [
    "We now calculate in which municipality the social democratic party garnered the most votes\n"
   ]
  },
  {
   "cell_type": "code",
   "execution_count": 81,
   "id": "0f32295b-dbf5-4353-8cc3-7af29818d1e8",
   "metadata": {},
   "outputs": [
    {
     "name": "stdout",
     "output_type": "stream",
     "text": [
      "[1] \"The Social Democratic party recieved the highest share of the vote in Munkfors\"\n"
     ]
    }
   ],
   "source": [
    "election_data$S_numeric <- as.numeric(gsub(\",\",\".\",election_data$S))\n",
    "print(paste(\"The Social Democratic party recieved the highest share of the vote in\",election_data$KOMMUNNAMN[which.max(election_data$S_numeric)]))"
   ]
  },
  {
   "cell_type": "markdown",
   "id": "fb6ff3b9-09b1-43f5-bf60-bbaf548488c3",
   "metadata": {},
   "source": [
    "We will now find the three municipalities with the largest turnout"
   ]
  },
  {
   "cell_type": "code",
   "execution_count": 84,
   "id": "1a6e93ee-c7f6-4327-94e2-468b2cc00135",
   "metadata": {},
   "outputs": [
    {
     "data": {
      "text/html": [
       "<table class=\"dataframe\">\n",
       "<caption>A data.frame: 3 × 47</caption>\n",
       "<thead>\n",
       "\t<tr><th></th><th scope=col>LÄNSKOD</th><th scope=col>KOMMUNKOD</th><th scope=col>LÄNSNAMN</th><th scope=col>KOMMUNNAMN</th><th scope=col>M</th><th scope=col>C</th><th scope=col>L</th><th scope=col>KD</th><th scope=col>S</th><th scope=col>V</th><th scope=col>⋯</th><th scope=col>ÖVR</th><th scope=col>OGEJ</th><th scope=col>BLANK</th><th scope=col>OG</th><th scope=col>RÖSTER.GILTIGA</th><th scope=col>RÖSTANDE</th><th scope=col>RÖSTBERÄTTIGADE</th><th scope=col>VALDELTAGANDE</th><th scope=col>S_numeric</th><th scope=col>turnout_numeric</th></tr>\n",
       "\t<tr><th></th><th scope=col>&lt;int&gt;</th><th scope=col>&lt;int&gt;</th><th scope=col>&lt;chr&gt;</th><th scope=col>&lt;chr&gt;</th><th scope=col>&lt;chr&gt;</th><th scope=col>&lt;chr&gt;</th><th scope=col>&lt;chr&gt;</th><th scope=col>&lt;chr&gt;</th><th scope=col>&lt;chr&gt;</th><th scope=col>&lt;chr&gt;</th><th scope=col>⋯</th><th scope=col>&lt;chr&gt;</th><th scope=col>&lt;chr&gt;</th><th scope=col>&lt;chr&gt;</th><th scope=col>&lt;chr&gt;</th><th scope=col>&lt;int&gt;</th><th scope=col>&lt;int&gt;</th><th scope=col>&lt;int&gt;</th><th scope=col>&lt;chr&gt;</th><th scope=col>&lt;dbl&gt;</th><th scope=col>&lt;dbl&gt;</th></tr>\n",
       "</thead>\n",
       "<tbody>\n",
       "\t<tr><th scope=row>104</th><td>12</td><td>62</td><td>Skåne län     </td><td>Lomma   </td><td>33,16</td><td>9,33</td><td>9,97</td><td>6,38 </td><td>16,69</td><td>2,54</td><td>⋯</td><td></td><td>    </td><td>0,51</td><td>0,04</td><td>16401</td><td>16492</td><td>17570</td><td>93,86</td><td>16.69</td><td>93.86</td></tr>\n",
       "\t<tr><th scope=row>60</th><td> 6</td><td>43</td><td>Jönköpings län</td><td>Habo    </td><td>19,73</td><td>8,77</td><td>4,22</td><td>15,13</td><td>23,74</td><td>3,91</td><td>⋯</td><td></td><td>0,06</td><td>0,88</td><td>0,06</td><td> 7746</td><td> 7825</td><td> 8382</td><td>93,35</td><td>23.74</td><td>93.35</td></tr>\n",
       "\t<tr><th scope=row>99</th><td>12</td><td>33</td><td>Skåne län     </td><td>Vellinge</td><td>39,56</td><td>7,24</td><td>7,26</td><td>7,45 </td><td>10,58</td><td>1,31</td><td>⋯</td><td></td><td>0,02</td><td>0,4 </td><td>0,04</td><td>25245</td><td>25360</td><td>27231</td><td>93,13</td><td>10.58</td><td>93.13</td></tr>\n",
       "</tbody>\n",
       "</table>\n"
      ],
      "text/latex": [
       "A data.frame: 3 × 47\n",
       "\\begin{tabular}{r|lllllllllllllllllllll}\n",
       "  & LÄNSKOD & KOMMUNKOD & LÄNSNAMN & KOMMUNNAMN & M & C & L & KD & S & V & ⋯ & ÖVR & OGEJ & BLANK & OG & RÖSTER.GILTIGA & RÖSTANDE & RÖSTBERÄTTIGADE & VALDELTAGANDE & S\\_numeric & turnout\\_numeric\\\\\n",
       "  & <int> & <int> & <chr> & <chr> & <chr> & <chr> & <chr> & <chr> & <chr> & <chr> & ⋯ & <chr> & <chr> & <chr> & <chr> & <int> & <int> & <int> & <chr> & <dbl> & <dbl>\\\\\n",
       "\\hline\n",
       "\t104 & 12 & 62 & Skåne län      & Lomma    & 33,16 & 9,33 & 9,97 & 6,38  & 16,69 & 2,54 & ⋯ &  &      & 0,51 & 0,04 & 16401 & 16492 & 17570 & 93,86 & 16.69 & 93.86\\\\\n",
       "\t60 &  6 & 43 & Jönköpings län & Habo     & 19,73 & 8,77 & 4,22 & 15,13 & 23,74 & 3,91 & ⋯ &  & 0,06 & 0,88 & 0,06 &  7746 &  7825 &  8382 & 93,35 & 23.74 & 93.35\\\\\n",
       "\t99 & 12 & 33 & Skåne län      & Vellinge & 39,56 & 7,24 & 7,26 & 7,45  & 10,58 & 1,31 & ⋯ &  & 0,02 & 0,4  & 0,04 & 25245 & 25360 & 27231 & 93,13 & 10.58 & 93.13\\\\\n",
       "\\end{tabular}\n"
      ],
      "text/markdown": [
       "\n",
       "A data.frame: 3 × 47\n",
       "\n",
       "| <!--/--> | LÄNSKOD &lt;int&gt; | KOMMUNKOD &lt;int&gt; | LÄNSNAMN &lt;chr&gt; | KOMMUNNAMN &lt;chr&gt; | M &lt;chr&gt; | C &lt;chr&gt; | L &lt;chr&gt; | KD &lt;chr&gt; | S &lt;chr&gt; | V &lt;chr&gt; | ⋯ ⋯ | ÖVR &lt;chr&gt; | OGEJ &lt;chr&gt; | BLANK &lt;chr&gt; | OG &lt;chr&gt; | RÖSTER.GILTIGA &lt;int&gt; | RÖSTANDE &lt;int&gt; | RÖSTBERÄTTIGADE &lt;int&gt; | VALDELTAGANDE &lt;chr&gt; | S_numeric &lt;dbl&gt; | turnout_numeric &lt;dbl&gt; |\n",
       "|---|---|---|---|---|---|---|---|---|---|---|---|---|---|---|---|---|---|---|---|---|---|\n",
       "| 104 | 12 | 62 | Skåne län      | Lomma    | 33,16 | 9,33 | 9,97 | 6,38  | 16,69 | 2,54 | ⋯ | <!----> | <!----> | 0,51 | 0,04 | 16401 | 16492 | 17570 | 93,86 | 16.69 | 93.86 |\n",
       "| 60 |  6 | 43 | Jönköpings län | Habo     | 19,73 | 8,77 | 4,22 | 15,13 | 23,74 | 3,91 | ⋯ | <!----> | 0,06 | 0,88 | 0,06 |  7746 |  7825 |  8382 | 93,35 | 23.74 | 93.35 |\n",
       "| 99 | 12 | 33 | Skåne län      | Vellinge | 39,56 | 7,24 | 7,26 | 7,45  | 10,58 | 1,31 | ⋯ | <!----> | 0,02 | 0,4  | 0,04 | 25245 | 25360 | 27231 | 93,13 | 10.58 | 93.13 |\n",
       "\n"
      ],
      "text/plain": [
       "    LÄNSKOD KOMMUNKOD LÄNSNAMN       KOMMUNNAMN M     C    L    KD    S    \n",
       "104 12      62        Skåne län      Lomma      33,16 9,33 9,97 6,38  16,69\n",
       "60   6      43        Jönköpings län Habo       19,73 8,77 4,22 15,13 23,74\n",
       "99  12      33        Skåne län      Vellinge   39,56 7,24 7,26 7,45  10,58\n",
       "    V    ⋯ ÖVR OGEJ BLANK OG   RÖSTER.GILTIGA RÖSTANDE RÖSTBERÄTTIGADE\n",
       "104 2,54 ⋯          0,51  0,04 16401          16492    17570          \n",
       "60  3,91 ⋯     0,06 0,88  0,06  7746           7825     8382          \n",
       "99  1,31 ⋯     0,02 0,4   0,04 25245          25360    27231          \n",
       "    VALDELTAGANDE S_numeric turnout_numeric\n",
       "104 93,86         16.69     93.86          \n",
       "60  93,35         23.74     93.35          \n",
       "99  93,13         10.58     93.13          "
      ]
     },
     "metadata": {},
     "output_type": "display_data"
    }
   ],
   "source": [
    "election_data$turnout_numeric <- as.numeric(gsub(\",\",\".\",election_data$VALDELTAGANDE))\n",
    "sorted_by_turnout <- election_data[order(-election_data$turnout_numeric),]\n",
    "sorted_by_turnout[1:3,]"
   ]
  },
  {
   "cell_type": "markdown",
   "id": "56eb9cb7-fb44-41af-93a5-da06f989450e",
   "metadata": {},
   "source": [
    "## Stroke data\n",
    "In this section we will create an informative plot to draw conclusions about stroke risk\n"
   ]
  },
  {
   "cell_type": "code",
   "execution_count": 87,
   "id": "940a558a-cdb3-40ef-b5a6-564a341e933c",
   "metadata": {},
   "outputs": [
    {
     "data": {
      "image/png": "[encoded data removed]",
      "text/plain": [
       "plot without title"
      ]
     },
     "metadata": {
      "image/png": {
       "height": 420,
       "width": 420
      }
     },
     "output_type": "display_data"
    }
   ],
   "source": [
    "stroke_data <- read.csv(\"stroke-data.csv\")\n",
    "boxplot(age ~ stroke, data = stroke_data)"
   ]
  },
  {
   "cell_type": "markdown",
   "id": "34701858-ceb4-4797-8217-83d9e2609f98",
   "metadata": {},
   "source": [
    "Hmm! It looks like older people suffer strokes more often. Truly ground breaking medical research!"
   ]
  },
  {
   "cell_type": "code",
   "execution_count": null,
   "id": "17bc0702-3e5f-48a2-bb3c-3a300327e455",
   "metadata": {},
   "outputs": [],
   "source": []
  }
 ],
 "metadata": {
  "kernelspec": {
   "display_name": "R",
   "language": "R",
   "name": "ir"
  },
  "language_info": {
   "codemirror_mode": "r",
   "file_extension": ".r",
   "mimetype": "text/x-r-source",
   "name": "R",
   "pygments_lexer": "r",
   "version": "4.3.1"
  }
 },
 "nbformat": 4,
 "nbformat_minor": 5
}
