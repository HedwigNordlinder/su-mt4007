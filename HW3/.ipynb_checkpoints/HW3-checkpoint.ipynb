{
 "cells": [
  {
   "cell_type": "markdown",
   "id": "7bcac49d-e6ab-4a09-9291-17e794b381db",
   "metadata": {},
   "source": [
    "# IRIS Data"
   ]
  },
  {
   "cell_type": "markdown",
   "id": "78f2ff62-91cf-47d8-8ff4-a900dcc1949c",
   "metadata": {},
   "source": [
    "We will explore the relationship between sepal and petal dimensions. First we create some informative scatter plots"
   ]
  },
  {
   "cell_type": "code",
   "execution_count": 3,
   "id": "0810a516-b245-48b3-983d-ba6d17bef2ed",
   "metadata": {},
   "outputs": [
    {
     "ename": "ERROR",
     "evalue": "Error in library(ggplot2): there is no package called ‘ggplot2’\n",
     "output_type": "error",
     "traceback": [
      "Error in library(ggplot2): there is no package called ‘ggplot2’\nTraceback:\n",
      "1. stop(packageNotFoundError(package, lib.loc, sys.call()))"
     ]
    }
   ],
   "source": [
    "iris_data <- read.csv(\"IRIS.csv\")\n",
    "\n",
    "par(mfrow = c(1,2))\n"
   ]
  },
  {
   "cell_type": "code",
   "execution_count": null,
   "id": "c13f328b-564a-4325-882f-d207b3aab9a0",
   "metadata": {},
   "outputs": [],
   "source": []
  }
 ],
 "metadata": {
  "kernelspec": {
   "display_name": "R",
   "language": "R",
   "name": "ir"
  },
  "language_info": {
   "codemirror_mode": "r",
   "file_extension": ".r",
   "mimetype": "text/x-r-source",
   "name": "R",
   "pygments_lexer": "r",
   "version": "4.3.1"
  }
 },
 "nbformat": 4,
 "nbformat_minor": 5
}
