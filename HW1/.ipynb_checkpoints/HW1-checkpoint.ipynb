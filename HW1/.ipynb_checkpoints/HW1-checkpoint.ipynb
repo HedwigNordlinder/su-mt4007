{
 "cells": [
  {
   "cell_type": "markdown",
   "id": "3d8e1a33-2a64-43e2-aec9-eb926895cc06",
   "metadata": {},
   "source": [
    "# Homework 1\n",
    "\n",
    "## Brief description of myself\n",
    "I am Hedwig Nordlinder, student at Stockholm University pursuing a BSc in Mathematical Statistics with a keen interest in insurance and biostatistics. \n",
    "\n",
    "## Brief description of previous experience with data science\n",
    "- Wrote a data-driven blog on public policy issues with a data-driven focus\n",
    "- Some work experience in finance relating to attribution analysis of stock portfolios\n",
    "- Current research intern in phylogenetics at KI\n",
    "- Various side projects / data analysis to inform own decisions\n",
    "- Completed courses at the non-mathematical statistical institution at Stockholm University (which unfortunately were not allowed to count towards my degree)\n"
   ]
  }
 ],
 "metadata": {
  "kernelspec": {
   "display_name": "Python 3 (ipykernel)",
   "language": "python",
   "name": "python3"
  },
  "language_info": {
   "codemirror_mode": {
    "name": "ipython",
    "version": 3
   },
   "file_extension": ".py",
   "mimetype": "text/x-python",
   "name": "python",
   "nbconvert_exporter": "python",
   "pygments_lexer": "ipython3",
   "version": "3.12.7"
  }
 },
 "nbformat": 4,
 "nbformat_minor": 5
}
